{
 "cells": [
  {
   "cell_type": "markdown",
   "metadata": {},
   "source": [
    "# De la bonne découpe pour un code source"
   ]
  },
  {
   "cell_type": "code",
   "execution_count": 2,
   "metadata": {},
   "outputs": [],
   "source": [
    "document = open(\"/home/thomas/raglab/misc/thomas/example.py\", \"r\")\n",
    "text = document.read()\n",
    "document.close()"
   ]
  },
  {
   "cell_type": "markdown",
   "metadata": {},
   "source": [
    "## Approche sémantique"
   ]
  },
  {
   "cell_type": "markdown",
   "metadata": {},
   "source": [
    "### Outil pour tokeniser du code"
   ]
  },
  {
   "cell_type": "code",
   "execution_count": 3,
   "metadata": {},
   "outputs": [
    {
     "name": "stdout",
     "output_type": "stream",
     "text": [
      "[class, AnimalBase, :, #INDENT#, def, __init__, (, self, ,, name]\n"
     ]
    },
    {
     "name": "stderr",
     "output_type": "stream",
     "text": [
      "/home/thomas/.local/lib/python3.9/site-packages/tree_sitter/__init__.py:36: FutureWarning: Language(path, name) is deprecated. Use Language(ptr, name) instead.\n",
      "  warn(\"{} is deprecated. Use {} instead.\".format(old, new), FutureWarning)\n"
     ]
    }
   ],
   "source": [
    "import code_tokenize as ctok # pip install code-tokenize\n",
    "\n",
    "tokens = ctok.tokenize(text, lang = \"python\")\n",
    "print(tokens[:10])"
   ]
  },
  {
   "cell_type": "markdown",
   "metadata": {},
   "source": [
    "### Tree-sitter permet de déduire un graphe syntaxique d'un code source"
   ]
  },
  {
   "cell_type": "markdown",
   "metadata": {},
   "source": [
    "On construit un arbre syntaxique avec le code du app.py"
   ]
  },
  {
   "cell_type": "code",
   "execution_count": 4,
   "metadata": {},
   "outputs": [],
   "source": [
    "import tree_sitter_python as tspython\n",
    "from tree_sitter import Language, Parser\n",
    "\n",
    "PY_LANGUAGE = Language(tspython.language(), \"python\")\n",
    "parser = Parser()\n",
    "parser.set_language(PY_LANGUAGE)\n",
    "tree = parser.parse(bytes(text, \"utf8\"))"
   ]
  },
  {
   "cell_type": "code",
   "execution_count": 19,
   "metadata": {},
   "outputs": [
    {
     "data": {
      "text/plain": [
       "['__class__',\n",
       " '__delattr__',\n",
       " '__dir__',\n",
       " '__doc__',\n",
       " '__eq__',\n",
       " '__format__',\n",
       " '__ge__',\n",
       " '__getattribute__',\n",
       " '__gt__',\n",
       " '__hash__',\n",
       " '__init__',\n",
       " '__init_subclass__',\n",
       " '__le__',\n",
       " '__lt__',\n",
       " '__module__',\n",
       " '__ne__',\n",
       " '__new__',\n",
       " '__reduce__',\n",
       " '__reduce_ex__',\n",
       " '__repr__',\n",
       " '__setattr__',\n",
       " '__sizeof__',\n",
       " '__str__',\n",
       " '__subclasshook__',\n",
       " 'changed_ranges',\n",
       " 'edit',\n",
       " 'included_ranges',\n",
       " 'root_node',\n",
       " 'root_node_with_offset',\n",
       " 'text',\n",
       " 'walk']"
      ]
     },
     "execution_count": 19,
     "metadata": {},
     "output_type": "execute_result"
    }
   ],
   "source": [
    "dir(tree)"
   ]
  },
  {
   "cell_type": "code",
   "execution_count": 6,
   "metadata": {},
   "outputs": [],
   "source": [
    "def node_content(node) :\n",
    "    return text[node.start_byte:node.end_byte]"
   ]
  },
  {
   "cell_type": "code",
   "execution_count": 7,
   "metadata": {},
   "outputs": [
    {
     "name": "stdout",
     "output_type": "stream",
     "text": [
      "class AnimalBase:\n",
      "    def __init__(self, name, energy=100, position=(0, 0), health=100):\n",
      "        self.name = name\n",
      "        self.energy = energy\n",
      "        self.position = position\n",
      "        self.health = health\n",
      "\n",
      "    def move(self, dx, dy):\n",
      "        if self.energy > 0:\n",
      "            self.position = (self.position[0] + dx, self.position[1] + dy)\n",
      "            self.energy -= 1\n",
      "        else:\n",
      "            print(f\"{self.name} is too tired to move.\")\n",
      "\n",
      "    def eat(self, food):\n",
      "        if isinstance(food, AnimalBase):\n",
      "            print(f\"{self.name} cannot eat other animals!\")\n",
      "        else:\n",
      "            self.energy += 10\n",
      "\n",
      "    def sleep(self, duration):\n",
      "        if self.energy < 100:\n",
      "            self.energy += duration\n",
      "            self.energy = min(self.energy, 100)\n",
      "            print(f\"{self.name} slept and now has {self.energy} energy.\")\n",
      "\n",
      "    def attack(self, animal):\n",
      "        if self.energy > 0 and self.health > 0:\n",
      "            damage = 10\n",
      "            animal.health -= damage\n",
      "            self.energy -= 5\n",
      "            print(f\"{self.name} attacked {animal.name} causing {damage} damage.\")\n",
      "        else:\n",
      "            print(f\"{self.name} is too weak to attack.\")\n",
      "\n",
      "    def seduce(self, animal):\n",
      "        print(f\"{self.name} tries to seduce {animal.name}.\")\n",
      "\n",
      "class Vertebre(AnimalBase):\n",
      "    def __init__(self, name, bone_density, *args, **kwargs):\n",
      "        super().__init__(name, *args, **kwargs)\n",
      "        self.bone_density = bone_density\n",
      "\n",
      "    def attack(self, animal):\n",
      "        super().attack(animal)\n",
      "        if self.bone_density > 50:\n",
      "            extra_damage = 5\n",
      "            animal.health -= extra_damage\n",
      "            print(f\"{self.name} uses strong bones to cause extra {extra_damage} damage.\")\n",
      "\n",
      "class Mammifere(Vertebre):\n",
      "    def __init__(self, name, fur_type, *args, **kwargs):\n",
      "        super().__init__(name, *args, **kwargs)\n",
      "        self.fur_type = fur_type\n",
      "\n",
      "    def seduce(self, animal):\n",
      "        super().seduce(animal)\n",
      "        if self.fur_type == 'soft':\n",
      "            print(f\"{self.name}'s soft fur makes it more appealing.\")\n",
      "\n",
      "class Carnivore(Mammifere):\n",
      "    def eat(self, animal):\n",
      "        if isinstance(animal, AnimalBase):\n",
      "            if self.energy < 50:\n",
      "                self.energy += 20\n",
      "                animal.health = 0\n",
      "                print(f\"{self.name} eats {animal.name} and gains energy.\")\n",
      "            else:\n",
      "                print(f\"{self.name} is not hungry.\")\n",
      "        else:\n",
      "            super().eat(animal)\n",
      "\n",
      "class Arborevore(AnimalBase):\n",
      "    def eat(self, food):\n",
      "        if food == 'tree':\n",
      "            self.energy += 15\n",
      "            print(f\"{self.name} eats a tree and gains energy.\")\n",
      "        else:\n",
      "            print(f\"{self.name} can only eat trees.\")\n",
      "\n",
      "# Final implementation classes\n",
      "class Luminherbe(Mammifere, Arborevore):\n",
      "    def __init__(self):\n",
      "        super().__init__('Luminherbe', 'soft', bone_density=60)\n",
      "\n",
      "    def sleep(self, duration):\n",
      "        super().sleep(duration)\n",
      "        self.energy += 5  # Luminherbe gains extra energy from sunlight during sleep\n",
      "\n",
      "    def move(self, dx, dy):\n",
      "        super().move(dx, dy)\n",
      "        if 'night' in self.get_time():  # Assuming get_time method returns part of the day\n",
      "            self.energy -= 2  # Extra energy cost during the night\n",
      "\n",
      "class VoraceFeu(Carnivore):\n",
      "    def __init__(self):\n",
      "        super().__init__('VoraceFeu', 'rough', bone_density=80)\n",
      "\n",
      "    def attack(self, animal):\n",
      "        super().attack(animal)\n",
      "        if 'fire' in self.get_environment():  # Assuming get_environment method returns elements in environment\n",
      "            animal.health -= 20  # Extra damage in a fiery environment\n",
      "\n",
      "    def eat(self, animal):\n",
      "        super().eat(animal)\n",
      "        if animal.health <= 0:\n",
      "            self.energy += 5  # Extra energy gain for successful hunt\n",
      "\n",
      "# Utility methods\n",
      "def get_time():\n",
      "    return 'day'  # Stub to simulate day or night\n",
      "\n",
      "def get_environment():\n",
      "    return ['forest', 'fire']  # Stub to simulate environmental conditions\n",
      "\n",
      "# CTF-like hidden flag (please replace with the actual flag for use)\n",
      "FLAG = \"0x5ECR3TF14G\"  # Always the same, encoded in different forms throughout\n",
      "\n",
      "\n",
      "\n",
      "\n",
      "Number or children\n",
      "-----------\n",
      "14\n"
     ]
    }
   ],
   "source": [
    "print(node_content(tree.root_node))\n",
    "print(\"\\n\\n\\nNumber or children\\n-----------\")\n",
    "print(len(tree.root_node.children))"
   ]
  },
  {
   "cell_type": "code",
   "execution_count": 8,
   "metadata": {},
   "outputs": [
    {
     "name": "stdout",
     "output_type": "stream",
     "text": [
      "class Vertebre(AnimalBase):\n",
      "    def __init__(self, name, bone_density, *args, **kwargs):\n",
      "        super().__init__(name, *args, **kwargs)\n",
      "        self.bone_density = bone_density\n",
      "\n",
      "    def attack(self, animal):\n",
      "        super().attack(animal)\n",
      "        if self.bone_density > 50:\n",
      "            extra_damage = 5\n",
      "            animal.health -= extra_damage\n",
      "            print(f\"{self.name} uses strong bones to cause extra {extra_damage} damage.\")\n"
     ]
    }
   ],
   "source": [
    "print(node_content(tree.root_node.children[1]))"
   ]
  },
  {
   "cell_type": "markdown",
   "metadata": {},
   "source": [
    "## Approche naïve"
   ]
  },
  {
   "cell_type": "code",
   "execution_count": 9,
   "metadata": {},
   "outputs": [],
   "source": [
    "def cut_document(document) -> list[str] :\n",
    "    segment_size = 300\n",
    "    segments = []\n",
    "    for i in range(0, len(document), segment_size) :\n",
    "        segments.append(document[i:i+segment_size])\n",
    "    return segments\n",
    "\n",
    "document = \"A\"*(300*3+299)\n",
    "\n",
    "assert len(cut_document(document)) == 4"
   ]
  },
  {
   "cell_type": "code",
   "execution_count": 10,
   "metadata": {},
   "outputs": [],
   "source": [
    "\n",
    "segments = cut_document(text)"
   ]
  },
  {
   "cell_type": "code",
   "execution_count": 17,
   "metadata": {},
   "outputs": [
    {
     "name": "stderr",
     "output_type": "stream",
     "text": [
      "\u001b[32m2024-05-03 07:44:53.219\u001b[0m | \u001b[34m\u001b[1mDEBUG   \u001b[0m | \u001b[36mtext2vec.sentence_model\u001b[0m:\u001b[36m__init__\u001b[0m:\u001b[36m80\u001b[0m - \u001b[34m\u001b[1mUse device: cpu\u001b[0m\n"
     ]
    }
   ],
   "source": [
    "import chromadb\n",
    "from random import randint\n",
    "\n",
    "client = chromadb.HttpClient(\n",
    "    host=\"149.202.47.109\",\n",
    "    port=\"45000\",\n",
    "    settings=chromadb.Settings(\n",
    "        chroma_client_auth_provider=\"chromadb.auth.token.TokenAuthClientProvider\",\n",
    "        chroma_client_auth_credentials=\"\",\n",
    "    ),\n",
    ")\n",
    "\n",
    "try :\n",
    "    client.delete_collection(\"segmentation_test\")\n",
    "except : \n",
    "    pass\n",
    "\n",
    "collection = client.get_or_create_collection(\"segmentation_test\", embedding_function=chromadb.utils.embedding_functions.Text2VecEmbeddingFunction())\n",
    "collection.add(documents=segments, ids=[str(randint(0, 10000)) for x in range(len(segments))])"
   ]
  },
  {
   "cell_type": "code",
   "execution_count": 18,
   "metadata": {},
   "outputs": [
    {
     "name": "stdout",
     "output_type": "stream",
     "text": [
      "e_density > 50:\n",
      "            extra_damage = 5\n",
      "            animal.health -= extra_damage\n",
      "            print(f\"{self.name} uses strong bones to cause extra {extra_damage} damage.\")\n",
      "\n",
      "class Mammifere(Vertebre):\n",
      "    def __init__(self, name, fur_type, *args, **kwargs):\n",
      "        super().__init__(name, *args, \n"
     ]
    }
   ],
   "source": [
    "print(segments[5])"
   ]
  },
  {
   "cell_type": "code",
   "execution_count": 19,
   "metadata": {},
   "outputs": [],
   "source": [
    "result = collection.query(query_texts=[\"Implémente un animal qui serait le résultat d'une mutation entre deux Luminherbe\"], n_results=3)"
   ]
  },
  {
   "cell_type": "code",
   "execution_count": 20,
   "metadata": {},
   "outputs": [
    {
     "data": {
      "text/plain": [
       "dict_keys(['ids', 'distances', 'embeddings', 'metadatas', 'documents', 'uris', 'data'])"
      ]
     },
     "execution_count": 20,
     "metadata": {},
     "output_type": "execute_result"
    }
   ],
   "source": [
    "result.keys()"
   ]
  },
  {
   "cell_type": "code",
   "execution_count": 21,
   "metadata": {},
   "outputs": [
    {
     "name": "stdout",
     "output_type": "stream",
     "text": [
      "\n",
      "\n",
      "\n",
      "attack(self, animal):\n",
      "        super().attack(animal)\n",
      "        if 'fire' in self.get_environment():  # Assuming get_environment method returns elements in environment\n",
      "            animal.health -= 20  # Extra damage in a fiery environment\n",
      "\n",
      "    def eat(self, animal):\n",
      "        super().eat(animal)\n",
      "        \n",
      "\n",
      "\n",
      "\n",
      "l)\n",
      "\n",
      "class Arborevore(AnimalBase):\n",
      "    def eat(self, food):\n",
      "        if food == 'tree':\n",
      "            self.energy += 15\n",
      "            print(f\"{self.name} eats a tree and gains energy.\")\n",
      "        else:\n",
      "            print(f\"{self.name} can only eat trees.\")\n",
      "\n",
      "# Final implementation classes\n",
      "class Luminherbe(Mam\n",
      "\n",
      "\n",
      "\n",
      "if animal.health <= 0:\n",
      "            self.energy += 5  # Extra energy gain for successful hunt\n",
      "\n",
      "# Utility methods\n",
      "def get_time():\n",
      "    return 'day'  # Stub to simulate day or night\n",
      "\n",
      "def get_environment():\n",
      "    return ['forest', 'fire']  # Stub to simulate environmental conditions\n",
      "\n",
      "# CTF-like hidden flag\n"
     ]
    }
   ],
   "source": [
    "for d in result[\"documents\"][0] :\n",
    "    print(\"\\n\\n\")\n",
    "    print(d)"
   ]
  },
  {
   "cell_type": "markdown",
   "metadata": {},
   "source": [
    "L'exemple précédent montre un exemple d'erreur à cause d'une mauvaise découpe : on a pas l'implémentation du Luminherbe. Aussi on aurait voulu avoir des informations sur la classe de base Mammifère."
   ]
  },
  {
   "cell_type": "markdown",
   "metadata": {},
   "source": [
    "## Mix des deux"
   ]
  },
  {
   "cell_type": "markdown",
   "metadata": {},
   "source": [
    "L'approche sémantique est intuitivement plus qualitative car elle permet d'aller chercher les informations liées sémantiquement et non positionnelement.\n",
    "\n",
    "En revanche, l'approche sémanque est difficile à employer seule, en partant d'une requête : là où un bloc d'information aura plus de chance de matcher avec notre requête, un bloc d'information de la taille d'un token le sera moins"
   ]
  },
  {
   "cell_type": "code",
   "execution_count": 24,
   "metadata": {},
   "outputs": [],
   "source": [
    "client.delete_collection(\"segmentation_test_tree\")"
   ]
  },
  {
   "cell_type": "code",
   "execution_count": 25,
   "metadata": {},
   "outputs": [
    {
     "name": "stderr",
     "output_type": "stream",
     "text": [
      "\u001b[32m2024-05-03 07:49:24.157\u001b[0m | \u001b[34m\u001b[1mDEBUG   \u001b[0m | \u001b[36mtext2vec.sentence_model\u001b[0m:\u001b[36m__init__\u001b[0m:\u001b[36m80\u001b[0m - \u001b[34m\u001b[1mUse device: cpu\u001b[0m\n"
     ]
    }
   ],
   "source": [
    "def store_tree_into_chroma(collection, tree) :\n",
    "    if tree.child_count == 0 :\n",
    "        return\n",
    "    for child in tree.children :\n",
    "        store_tree_into_chroma(collection, child)\n",
    "    collection.add(documents=[node_content(tree)], ids=[str(randint(0, 10000))])\n",
    "\n",
    "collection = client.get_or_create_collection(\"segmentation_test_tree\", embedding_function=chromadb.utils.embedding_functions.Text2VecEmbeddingFunction())\n",
    "store_tree_into_chroma(collection, tree.root_node)"
   ]
  },
  {
   "cell_type": "code",
   "execution_count": 26,
   "metadata": {},
   "outputs": [
    {
     "name": "stderr",
     "output_type": "stream",
     "text": [
      "\u001b[32m2024-05-03 07:50:56.051\u001b[0m | \u001b[34m\u001b[1mDEBUG   \u001b[0m | \u001b[36mtext2vec.sentence_model\u001b[0m:\u001b[36m__init__\u001b[0m:\u001b[36m80\u001b[0m - \u001b[34m\u001b[1mUse device: cpu\u001b[0m\n"
     ]
    }
   ],
   "source": [
    "collection_tree = collection\n",
    "collection = client.get_or_create_collection(\"segmentation_test\", embedding_function=chromadb.utils.embedding_functions.Text2VecEmbeddingFunction())\n"
   ]
  },
  {
   "cell_type": "code",
   "execution_count": 30,
   "metadata": {},
   "outputs": [
    {
     "name": "stdout",
     "output_type": "stream",
     "text": [
      "Tree document : 398\n",
      "Chunk document:  14\n"
     ]
    }
   ],
   "source": [
    "print(\"Tree document :\", collection_tree.count())\n",
    "print(\"Chunk document: \", collection.count())"
   ]
  },
  {
   "cell_type": "code",
   "execution_count": 32,
   "metadata": {},
   "outputs": [
    {
     "name": "stdout",
     "output_type": "stream",
     "text": [
      "\n",
      "\n",
      "\n",
      "class Carnivore(Mammifere):\n",
      "    def eat(self, animal):\n",
      "        if isinstance(animal, AnimalBase):\n",
      "            if self.energy < 50:\n",
      "                self.energy += 20\n",
      "                animal.health = 0\n",
      "                print(f\"{self.name} eats {animal.name} and gains energy.\")\n",
      "            else:\n",
      "                print(f\"{self.name} is not hungry.\")\n",
      "        else:\n",
      "            super().eat(animal)\n",
      "\n",
      "\n",
      "\n",
      "def attack(self, animal):\n",
      "        super().attack(animal)\n",
      "        if 'fire' in self.get_environment():  # Assuming get_environment method returns elements in environment\n",
      "            animal.health -= 20  # Extra damage in a fiery environment\n",
      "\n",
      "\n",
      "\n",
      "class VoraceFeu(Carnivore):\n",
      "    def __init__(self):\n",
      "        super().__init__('VoraceFeu', 'rough', bone_density=80)\n",
      "\n",
      "    def attack(self, animal):\n",
      "        super().attack(animal)\n",
      "        if 'fire' in self.get_environment():  # Assuming get_environment method returns elements in environment\n",
      "            animal.health -= 20  # Extra damage in a fiery environment\n",
      "\n",
      "    def eat(self, animal):\n",
      "        super().eat(animal)\n",
      "        if animal.health <= 0:\n",
      "            self.energy += 5  # Extra energy gain for successful hunt\n"
     ]
    }
   ],
   "source": [
    "result = collection_tree.query(query_texts=[\"Implémente un animal qui serait le résultat d'une mutation entre deux Luminherbe\"], n_results=3)\n",
    "for d in result[\"documents\"][0] :\n",
    "    print(\"\\n\\n\")\n",
    "    print(d)"
   ]
  },
  {
   "cell_type": "code",
   "execution_count": 50,
   "metadata": {},
   "outputs": [
    {
     "data": {
      "text/plain": [
       "[]"
      ]
     },
     "execution_count": 50,
     "metadata": {},
     "output_type": "execute_result"
    }
   ],
   "source": []
  }
 ],
 "metadata": {
  "kernelspec": {
   "display_name": "Python 3",
   "language": "python",
   "name": "python3"
  },
  "language_info": {
   "codemirror_mode": {
    "name": "ipython",
    "version": 3
   },
   "file_extension": ".py",
   "mimetype": "text/x-python",
   "name": "python",
   "nbconvert_exporter": "python",
   "pygments_lexer": "ipython3",
   "version": "3.9.2"
  }
 },
 "nbformat": 4,
 "nbformat_minor": 2
}
