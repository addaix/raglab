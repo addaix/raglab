{
 "cells": [
  {
   "cell_type": "code",
   "execution_count": null,
   "metadata": {},
   "outputs": [],
   "source": []
  },
  {
   "cell_type": "markdown",
   "metadata": {},
   "source": [
    "# Making malls"
   ]
  },
  {
   "cell_type": "markdown",
   "metadata": {},
   "source": [
    "## Local stores"
   ]
  },
  {
   "cell_type": "code",
   "execution_count": 1,
   "metadata": {},
   "outputs": [],
   "source": [
    "from dol import JsonFiles, wrap_kvs, mk_dirs_if_missing, temp_dir, KeyPath, KeyTemplate, filt_iter, Files\n",
    "import os\n",
    "\n",
    "pjoin = os.path.join"
   ]
  },
  {
   "cell_type": "code",
   "execution_count": 2,
   "metadata": {},
   "outputs": [
    {
     "name": "stdout",
     "output_type": "stream",
     "text": [
      "/var/folders/mc/c070wfh51kxd9lft8dl74q1r0000gn/T/ragdag/rjsf_fiddle\n"
     ]
    }
   ],
   "source": [
    "# temporary directory\n",
    "\n",
    "rootdir = temp_dir('ragdag/rjsf_fiddle')\n",
    "\n",
    "print(rootdir)"
   ]
  },
  {
   "cell_type": "code",
   "execution_count": 4,
   "metadata": {},
   "outputs": [
    {
     "data": {
      "text/plain": [
       "{'an': 'apple'}"
      ]
     },
     "execution_count": 4,
     "metadata": {},
     "output_type": "execute_result"
    }
   ],
   "source": [
    "## Making a key template\n",
    "\n",
    "from dol import KeyTemplate\n",
    "import os\n",
    "\n",
    "pjoin = os.path.join\n",
    "\n",
    "user_template = pjoin('u', '{user_name}')\n",
    "stores_template = pjoin('stores', '{store_name}')\n",
    "\n",
    "kt = KeyTemplate(template=pjoin(user_template, stores_template))\n",
    "key_wrap = kt.key_codec(decoded='tuple', encoded='str')\n",
    "\n",
    "back = {\n",
    "    'u/bob/stores/spec_1': {'an': 'apple'},\n",
    "    'u/bob/stores/spec_2': {'an': 'orange'},\n",
    "    'u/alice/stores/spec_1': {'i_like': 'to move it'},\n",
    "    'some/thing/else': 'contents'\n",
    "}\n",
    "\n",
    "front = key_wrap(kt.filt_iter(back))\n",
    "assert sorted(front) == [('alice', 'spec_1'), ('bob', 'spec_1'), ('bob', 'spec_2')]\n",
    "front['bob', 'spec_1']\n"
   ]
  },
  {
   "cell_type": "code",
   "execution_count": 7,
   "metadata": {},
   "outputs": [
    {
     "name": "stdout",
     "output_type": "stream",
     "text": [
      "rootdir='/var/folders/mc/c070wfh51kxd9lft8dl74q1r0000gn/T/ragdag/rjsf_fiddle'\n",
      "Go check out this folder: file:///var/folders/mc/c070wfh51kxd9lft8dl74q1r0000gn/T/ragdag/rjsf_fiddle/u/bob/stores/spec_1/\n"
     ]
    }
   ],
   "source": [
    "from raglab.stores.stores_util import *\n",
    "\n",
    "def test_mk_local_user_store(verbose=False):\n",
    "\n",
    "    rootdir = temp_dir('ragdag/rjsf_fiddle')\n",
    "    if verbose:\n",
    "        print(f\"{rootdir=}\")\n",
    "\n",
    "    s = mk_local_user_store(rootdir, user_name='bob', store_kind='spec_1')\n",
    "    s['some_key'] = b'some_value'\n",
    "    s['some_other_key'] = b'some_other_value'\n",
    "    if verbose:\n",
    "        print(f\"Go check out this folder: file://{s.rootdir}\")\n",
    "    assert 'some_key' in s\n",
    "    assert s['some_key'] == b'some_value'\n",
    "    assert 'some_key' in os.listdir(s.rootdir)\n",
    "\n",
    "def test_mk_specialized_local_user_store(verbose=False):\n",
    "\n",
    "    rootdir = temp_dir('ragdag/rjsf_fiddle')\n",
    "    if verbose:\n",
    "        print(f\"{rootdir=}\")\n",
    "\n",
    "    s = mk_json_store(rootdir, user_name='alice', store_kind='jsons')\n",
    "    s['some_key'] = {'a': 'b'}\n",
    "    assert s['some_key'] == {'a': 'b'}\n",
    "\n",
    "    # see that the file is there, with a json extension\n",
    "    assert 'some_key.json' in os.listdir(s.rootdir)\n",
    "    # see that the file contains the expected content, as json string\n",
    "    from pathlib import Path\n",
    "    assert Path(os.path.join(s.rootdir, 'some_key.json')).read_text() == '{\"a\": \"b\"}'\n",
    "\n",
    "    s = mk_text_store(rootdir, user_name='alice', store_kind='texts')\n",
    "    s['some_key'] = 'some_value'\n",
    "    assert s['some_key'] == 'some_value'\n",
    "\n",
    "    s = mk_pickle_store(rootdir, user_name='alice', store_kind='pickles')\n",
    "    ecclectic_data = [1, 2.3, 'four']\n",
    "    s['some_key'] = ecclectic_data\n",
    "    assert s['some_key'] == ecclectic_data\n",
    "\n",
    "test_mk_local_user_store(verbose=True)\n",
    "test_mk_specialized_local_user_store()\n"
   ]
  },
  {
   "cell_type": "code",
   "execution_count": null,
   "metadata": {},
   "outputs": [],
   "source": []
  },
  {
   "cell_type": "markdown",
   "metadata": {},
   "source": [
    "# Little scrap demo with TN"
   ]
  },
  {
   "cell_type": "code",
   "execution_count": null,
   "metadata": {},
   "outputs": [],
   "source": [
    "from functools import partial\n"
   ]
  },
  {
   "cell_type": "code",
   "execution_count": 22,
   "metadata": {},
   "outputs": [
    {
     "data": {
      "text/plain": [
       "0.2"
      ]
     },
     "execution_count": 22,
     "metadata": {},
     "output_type": "execute_result"
    }
   ],
   "source": [
    "def divide(x, y):\n",
    "    return x / y\n",
    "\n",
    "divide_2 = partial(divide, y=2)\n",
    "\n",
    "divide_2(10)\n",
    "\n",
    "num_fixed_division = partial(divide, 2)\n",
    "num_fixed_division(10)\n",
    "\n"
   ]
  },
  {
   "cell_type": "code",
   "execution_count": 25,
   "metadata": {},
   "outputs": [
    {
     "name": "stdout",
     "output_type": "stream",
     "text": [
      "rootdir='/var/folders/mc/c070wfh51kxd9lft8dl74q1r0000gn/T/ragdag/rjsf_fiddle'\n"
     ]
    }
   ],
   "source": [
    "verbose = True\n",
    "\n",
    "rootdir = temp_dir('ragdag/rjsf_fiddle')\n",
    "if verbose:\n",
    "    print(f\"{rootdir=}\")\n",
    "\n",
    "s = mk_json_store(rootdir, user_name='alice', store_kind='jsons')\n",
    "\n",
    "s['some_key'] = {'a': 'b'}\n",
    "assert s['some_key'] == {'a': 'b'}\n",
    "s['nicholas'] = {'my_stuff': [1,2,3]}\n",
    "\n",
    "# # see that the file is there, with a json extension\n",
    "# assert 'some_key.json' in os.listdir(s.rootdir)\n",
    "# # see that the file contains the expected content, as json string\n",
    "# from pathlib import Path\n",
    "\n",
    "# assert Path(os.path.join(s.rootdir, 'some_key.json')).read_text() == '{\"a\": \"b\"}'\n",
    "\n",
    "# s = mk_text_store(rootdir, user_name='alice', store_kind='texts')\n",
    "# s['some_key'] = 'some_value'\n",
    "# assert s['some_key'] == 'some_value'\n",
    "\n",
    "# s = mk_pickle_store(rootdir, user_name='alice', store_kind='pickles')\n",
    "# ecclectic_data = [1, 2.3, 'four']\n",
    "# s['some_key'] = ecclectic_data\n",
    "# assert s['some_key'] == ecclectic_data\n"
   ]
  },
  {
   "cell_type": "code",
   "execution_count": 30,
   "metadata": {},
   "outputs": [
    {
     "data": {
      "text/plain": [
       "['jsons/some_key.json',\n",
       " 'jsons/nicholas.json',\n",
       " 'pickles/some_key.pkl',\n",
       " 'texts/some_key.txt']"
      ]
     },
     "execution_count": 30,
     "metadata": {},
     "output_type": "execute_result"
    }
   ],
   "source": [
    "f = '/private/var/folders/mc/c070wfh51kxd9lft8dl74q1r0000gn/T/ragdag/rjsf_fiddle/u/alice/stores/'\n",
    "\n",
    "from dol import Files\n",
    "\n",
    "t = Files(f)\n",
    "\n",
    "list(t)\n",
    "\n"
   ]
  },
  {
   "cell_type": "code",
   "execution_count": 31,
   "metadata": {},
   "outputs": [
    {
     "data": {
      "text/plain": [
       "['jsons/some_key.json', 'jsons/nicholas.json']"
      ]
     },
     "execution_count": 31,
     "metadata": {},
     "output_type": "execute_result"
    }
   ],
   "source": [
    "from dol import filt_iter\n",
    "\n",
    "t = filt_iter(t, filt=lambda x: x.endswith('.json'))\n",
    "list(t)"
   ]
  },
  {
   "cell_type": "code",
   "execution_count": 34,
   "metadata": {},
   "outputs": [
    {
     "data": {
      "text/plain": [
       "b'{\"my_stuff\": [1, 2, 3]}'"
      ]
     },
     "execution_count": 34,
     "metadata": {},
     "output_type": "execute_result"
    }
   ],
   "source": [
    "t['jsons/nicholas.json']"
   ]
  },
  {
   "cell_type": "code",
   "execution_count": 32,
   "metadata": {},
   "outputs": [
    {
     "data": {
      "text/plain": [
       "'some_key'"
      ]
     },
     "execution_count": 32,
     "metadata": {},
     "output_type": "execute_result"
    }
   ],
   "source": [
    "key_of_id=lambda id_: id_[len('jsons/'):-len('.json')]\n",
    "key_of_id('jsons/some_key.json')\n"
   ]
  },
  {
   "cell_type": "code",
   "execution_count": 33,
   "metadata": {},
   "outputs": [
    {
     "data": {
      "text/plain": [
       "['some_key', 'nicholas']"
      ]
     },
     "execution_count": 33,
     "metadata": {},
     "output_type": "execute_result"
    }
   ],
   "source": [
    "# Key codec (transformation)\n",
    "from dol import wrap_kvs\n",
    "\n",
    "tt = wrap_kvs(\n",
    "    t, \n",
    "    key_of_id=lambda id_: id_[len('jsons/'):-len('.json')],\n",
    "    id_of_key=lambda key: f'jsons/{key}.json'\n",
    ")\n",
    "\n",
    "list(tt)"
   ]
  },
  {
   "cell_type": "code",
   "execution_count": 35,
   "metadata": {},
   "outputs": [
    {
     "data": {
      "text/plain": [
       "b'{\"my_stuff\": [1, 2, 3]}'"
      ]
     },
     "execution_count": 35,
     "metadata": {},
     "output_type": "execute_result"
    }
   ],
   "source": [
    "tt['nicholas']"
   ]
  },
  {
   "cell_type": "code",
   "execution_count": 36,
   "metadata": {},
   "outputs": [
    {
     "data": {
      "text/plain": [
       "{'my_stuff': [1, 2, 3]}"
      ]
     },
     "execution_count": 36,
     "metadata": {},
     "output_type": "execute_result"
    }
   ],
   "source": [
    "# Value codec (transformation)\n",
    "import json \n",
    "\n",
    "ttt = wrap_kvs(\n",
    "    tt,\n",
    "    obj_of_data=lambda data: json.loads(data),\n",
    ")\n",
    "\n",
    "ttt['nicholas']"
   ]
  },
  {
   "cell_type": "code",
   "execution_count": 40,
   "metadata": {},
   "outputs": [
    {
     "data": {
      "text/html": [
       "<div>\n",
       "<style scoped>\n",
       "    .dataframe tbody tr th:only-of-type {\n",
       "        vertical-align: middle;\n",
       "    }\n",
       "\n",
       "    .dataframe tbody tr th {\n",
       "        vertical-align: top;\n",
       "    }\n",
       "\n",
       "    .dataframe thead th {\n",
       "        text-align: right;\n",
       "    }\n",
       "</style>\n",
       "<table border=\"1\" class=\"dataframe\">\n",
       "  <thead>\n",
       "    <tr style=\"text-align: right;\">\n",
       "      <th></th>\n",
       "      <th>my_stuff</th>\n",
       "    </tr>\n",
       "  </thead>\n",
       "  <tbody>\n",
       "    <tr>\n",
       "      <th>0</th>\n",
       "      <td>1</td>\n",
       "    </tr>\n",
       "    <tr>\n",
       "      <th>1</th>\n",
       "      <td>2</td>\n",
       "    </tr>\n",
       "    <tr>\n",
       "      <th>2</th>\n",
       "      <td>3</td>\n",
       "    </tr>\n",
       "  </tbody>\n",
       "</table>\n",
       "</div>"
      ],
      "text/plain": [
       "   my_stuff\n",
       "0         1\n",
       "1         2\n",
       "2         3"
      ]
     },
     "execution_count": 40,
     "metadata": {},
     "output_type": "execute_result"
    }
   ],
   "source": [
    "import pandas as pd\n",
    "import io\n",
    "\n",
    "tttt = wrap_kvs(tt,\n",
    "    obj_of_data=lambda data: pd.read_json(io.BytesIO(data)),\n",
    ")\n",
    "\n",
    "tttt['nicholas']"
   ]
  },
  {
   "cell_type": "code",
   "execution_count": 41,
   "metadata": {},
   "outputs": [
    {
     "data": {
      "image/svg+xml": [
       "<?xml version=\"1.0\" encoding=\"UTF-8\" standalone=\"no\"?>\n",
       "<!DOCTYPE svg PUBLIC \"-//W3C//DTD SVG 1.1//EN\"\n",
       " \"http://www.w3.org/Graphics/SVG/1.1/DTD/svg11.dtd\">\n",
       "<!-- Generated by graphviz version 9.0.0 (20230911.1827)\n",
       " -->\n",
       "<!-- Pages: 1 -->\n",
       "<svg width=\"350pt\" height=\"908pt\"\n",
       " viewBox=\"0.00 0.00 350.38 908.00\" xmlns=\"http://www.w3.org/2000/svg\" xmlns:xlink=\"http://www.w3.org/1999/xlink\">\n",
       "<g id=\"graph0\" class=\"graph\" transform=\"scale(1 1) rotate(0) translate(4 904)\">\n",
       "<polygon fill=\"white\" stroke=\"none\" points=\"-4,4 -4,-904 346.38,-904 346.38,4 -4,4\"/>\n",
       "<!-- dataset_list -->\n",
       "<g id=\"node1\" class=\"node\">\n",
       "<title>dataset_list</title>\n",
       "<text text-anchor=\"middle\" x=\"246\" y=\"-732.95\" font-family=\"Times,serif\" font-size=\"14.00\">dataset_list</text>\n",
       "</g>\n",
       "<!-- select_dataset -->\n",
       "<g id=\"node7\" class=\"node\">\n",
       "<title>select_dataset</title>\n",
       "<polygon fill=\"none\" stroke=\"black\" points=\"251.5,-684 160.5,-684 160.5,-648 251.5,-648 251.5,-684\"/>\n",
       "<text text-anchor=\"middle\" x=\"206\" y=\"-660.95\" font-family=\"Times,serif\" font-size=\"14.00\">select_dataset</text>\n",
       "</g>\n",
       "<!-- dataset_list&#45;&gt;select_dataset -->\n",
       "<g id=\"edge5\" class=\"edge\">\n",
       "<title>dataset_list&#45;&gt;select_dataset</title>\n",
       "<path fill=\"none\" stroke=\"black\" d=\"M236.32,-720.05C231.86,-712.26 226.47,-702.82 221.47,-694.08\"/>\n",
       "<polygon fill=\"black\" stroke=\"black\" points=\"224.62,-692.54 216.62,-685.59 218.55,-696.01 224.62,-692.54\"/>\n",
       "</g>\n",
       "<!-- user -->\n",
       "<g id=\"node2\" class=\"node\">\n",
       "<title>user</title>\n",
       "<text text-anchor=\"middle\" x=\"210\" y=\"-876.95\" font-family=\"Times,serif\" font-size=\"14.00\">user</text>\n",
       "</g>\n",
       "<!-- get_dataset_list -->\n",
       "<g id=\"node4\" class=\"node\">\n",
       "<title>get_dataset_list</title>\n",
       "<polygon fill=\"none\" stroke=\"black\" points=\"296,-828 196,-828 196,-792 296,-792 296,-828\"/>\n",
       "<text text-anchor=\"middle\" x=\"246\" y=\"-804.95\" font-family=\"Times,serif\" font-size=\"14.00\">get_dataset_list</text>\n",
       "</g>\n",
       "<!-- user&#45;&gt;get_dataset_list -->\n",
       "<g id=\"edge2\" class=\"edge\">\n",
       "<title>user&#45;&gt;get_dataset_list</title>\n",
       "<path fill=\"none\" stroke=\"black\" d=\"M218.71,-864.05C222.68,-856.35 227.47,-847.03 231.93,-838.36\"/>\n",
       "<polygon fill=\"black\" stroke=\"black\" points=\"234.96,-840.11 236.42,-829.62 228.74,-836.91 234.96,-840.11\"/>\n",
       "</g>\n",
       "<!-- pwd -->\n",
       "<g id=\"node3\" class=\"node\">\n",
       "<title>pwd</title>\n",
       "<text text-anchor=\"middle\" x=\"282\" y=\"-876.95\" font-family=\"Times,serif\" font-size=\"14.00\">pwd</text>\n",
       "</g>\n",
       "<!-- pwd&#45;&gt;get_dataset_list -->\n",
       "<g id=\"edge3\" class=\"edge\">\n",
       "<title>pwd&#45;&gt;get_dataset_list</title>\n",
       "<path fill=\"none\" stroke=\"black\" d=\"M273.29,-864.05C269.32,-856.35 264.53,-847.03 260.07,-838.36\"/>\n",
       "<polygon fill=\"black\" stroke=\"black\" points=\"263.26,-836.91 255.58,-829.62 257.04,-840.11 263.26,-836.91\"/>\n",
       "</g>\n",
       "<!-- get_dataset_list&#45;&gt;dataset_list -->\n",
       "<g id=\"edge1\" class=\"edge\">\n",
       "<title>get_dataset_list&#45;&gt;dataset_list</title>\n",
       "<path fill=\"none\" stroke=\"black\" d=\"M246,-791.7C246,-784.21 246,-775.26 246,-766.88\"/>\n",
       "<polygon fill=\"black\" stroke=\"black\" points=\"249.5,-767.14 246,-757.14 242.5,-767.14 249.5,-767.14\"/>\n",
       "</g>\n",
       "<!-- dataset -->\n",
       "<g id=\"node5\" class=\"node\">\n",
       "<title>dataset</title>\n",
       "<text text-anchor=\"middle\" x=\"198\" y=\"-588.95\" font-family=\"Times,serif\" font-size=\"14.00\">dataset</text>\n",
       "</g>\n",
       "<!-- get_relevant_chunks -->\n",
       "<g id=\"node12\" class=\"node\">\n",
       "<title>get_relevant_chunks</title>\n",
       "<polygon fill=\"none\" stroke=\"black\" points=\"223.88,-540 96.12,-540 96.12,-504 223.88,-504 223.88,-540\"/>\n",
       "<text text-anchor=\"middle\" x=\"160\" y=\"-516.95\" font-family=\"Times,serif\" font-size=\"14.00\">get_relevant_chunks</text>\n",
       "</g>\n",
       "<!-- dataset&#45;&gt;get_relevant_chunks -->\n",
       "<g id=\"edge11\" class=\"edge\">\n",
       "<title>dataset&#45;&gt;get_relevant_chunks</title>\n",
       "<path fill=\"none\" stroke=\"black\" d=\"M188.8,-576.05C184.62,-568.35 179.56,-559.03 174.85,-550.36\"/>\n",
       "<polygon fill=\"black\" stroke=\"black\" points=\"177.95,-548.72 170.1,-541.61 171.8,-552.06 177.95,-548.72\"/>\n",
       "</g>\n",
       "<!-- dataset_choice -->\n",
       "<g id=\"node6\" class=\"node\">\n",
       "<title>dataset_choice</title>\n",
       "<text text-anchor=\"middle\" x=\"142\" y=\"-732.95\" font-family=\"Times,serif\" font-size=\"14.00\">dataset_choice</text>\n",
       "</g>\n",
       "<!-- dataset_choice&#45;&gt;select_dataset -->\n",
       "<g id=\"edge6\" class=\"edge\">\n",
       "<title>dataset_choice&#45;&gt;select_dataset</title>\n",
       "<path fill=\"none\" stroke=\"black\" d=\"M157.49,-720.05C165.01,-711.84 174.19,-701.79 182.54,-692.66\"/>\n",
       "<polygon fill=\"black\" stroke=\"black\" points=\"185.02,-695.13 189.18,-685.39 179.85,-690.41 185.02,-695.13\"/>\n",
       "</g>\n",
       "<!-- select_dataset&#45;&gt;dataset -->\n",
       "<g id=\"edge4\" class=\"edge\">\n",
       "<title>select_dataset&#45;&gt;dataset</title>\n",
       "<path fill=\"none\" stroke=\"black\" d=\"M204.02,-647.7C203.17,-640.21 202.14,-631.26 201.19,-622.88\"/>\n",
       "<polygon fill=\"black\" stroke=\"black\" points=\"204.68,-622.66 200.07,-613.13 197.73,-623.46 204.68,-622.66\"/>\n",
       "</g>\n",
       "<!-- dataset_query -->\n",
       "<g id=\"node8\" class=\"node\">\n",
       "<title>dataset_query</title>\n",
       "<text text-anchor=\"middle\" x=\"92\" y=\"-588.95\" font-family=\"Times,serif\" font-size=\"14.00\">dataset_query</text>\n",
       "</g>\n",
       "<!-- dataset_query&#45;&gt;get_relevant_chunks -->\n",
       "<g id=\"edge10\" class=\"edge\">\n",
       "<title>dataset_query&#45;&gt;get_relevant_chunks</title>\n",
       "<path fill=\"none\" stroke=\"black\" d=\"M108.46,-576.05C116.53,-567.75 126.4,-557.58 135.35,-548.38\"/>\n",
       "<polygon fill=\"black\" stroke=\"black\" points=\"137.71,-550.97 142.16,-541.36 132.69,-546.09 137.71,-550.97\"/>\n",
       "</g>\n",
       "<!-- query -->\n",
       "<g id=\"node9\" class=\"node\">\n",
       "<title>query</title>\n",
       "<text text-anchor=\"middle\" x=\"45\" y=\"-732.95\" font-family=\"Times,serif\" font-size=\"14.00\">query</text>\n",
       "</g>\n",
       "<!-- get_dataset_query -->\n",
       "<g id=\"node10\" class=\"node\">\n",
       "<title>get_dataset_query</title>\n",
       "<polygon fill=\"none\" stroke=\"black\" points=\"142.12,-684 27.87,-684 27.87,-648 142.12,-648 142.12,-684\"/>\n",
       "<text text-anchor=\"middle\" x=\"85\" y=\"-660.95\" font-family=\"Times,serif\" font-size=\"14.00\">get_dataset_query</text>\n",
       "</g>\n",
       "<!-- query&#45;&gt;get_dataset_query -->\n",
       "<g id=\"edge8\" class=\"edge\">\n",
       "<title>query&#45;&gt;get_dataset_query</title>\n",
       "<path fill=\"none\" stroke=\"black\" d=\"M54.68,-720.05C59.14,-712.26 64.53,-702.82 69.53,-694.08\"/>\n",
       "<polygon fill=\"black\" stroke=\"black\" points=\"72.45,-696.01 74.38,-685.59 66.38,-692.54 72.45,-696.01\"/>\n",
       "</g>\n",
       "<!-- make_answer -->\n",
       "<g id=\"node20\" class=\"node\">\n",
       "<title>make_answer</title>\n",
       "<polygon fill=\"none\" stroke=\"black\" points=\"114.5,-108 23.5,-108 23.5,-72 114.5,-72 114.5,-108\"/>\n",
       "<text text-anchor=\"middle\" x=\"69\" y=\"-84.95\" font-family=\"Times,serif\" font-size=\"14.00\">make_answer</text>\n",
       "</g>\n",
       "<!-- query&#45;&gt;make_answer -->\n",
       "<g id=\"edge19\" class=\"edge\">\n",
       "<title>query&#45;&gt;make_answer</title>\n",
       "<path fill=\"none\" stroke=\"black\" d=\"M35.47,-720.27C29.99,-710.06 23.36,-696.59 19,-684 5.77,-645.78 0,-635.45 0,-595 0,-595 0,-595 0,-233 0,-192.55 0.2,-179.81 19,-144 24.28,-133.94 32.01,-124.42 39.82,-116.29\"/>\n",
       "<polygon fill=\"black\" stroke=\"black\" points=\"42.12,-118.93 46.81,-109.43 37.22,-113.94 42.12,-118.93\"/>\n",
       "</g>\n",
       "<!-- get_dataset_query&#45;&gt;dataset_query -->\n",
       "<g id=\"edge7\" class=\"edge\">\n",
       "<title>get_dataset_query&#45;&gt;dataset_query</title>\n",
       "<path fill=\"none\" stroke=\"black\" d=\"M86.73,-647.7C87.48,-640.21 88.37,-631.26 89.21,-622.88\"/>\n",
       "<polygon fill=\"black\" stroke=\"black\" points=\"92.67,-623.43 90.19,-613.13 85.71,-622.73 92.67,-623.43\"/>\n",
       "</g>\n",
       "<!-- relevant_chunk_keys -->\n",
       "<g id=\"node11\" class=\"node\">\n",
       "<title>relevant_chunk_keys</title>\n",
       "<text text-anchor=\"middle\" x=\"160\" y=\"-444.95\" font-family=\"Times,serif\" font-size=\"14.00\">relevant_chunk_keys</text>\n",
       "</g>\n",
       "<!-- make_chunks_display -->\n",
       "<g id=\"node14\" class=\"node\">\n",
       "<title>make_chunks_display</title>\n",
       "<polygon fill=\"none\" stroke=\"black\" points=\"342.38,-396 205.62,-396 205.62,-360 342.38,-360 342.38,-396\"/>\n",
       "<text text-anchor=\"middle\" x=\"274\" y=\"-372.95\" font-family=\"Times,serif\" font-size=\"14.00\">make_chunks_display</text>\n",
       "</g>\n",
       "<!-- relevant_chunk_keys&#45;&gt;make_chunks_display -->\n",
       "<g id=\"edge13\" class=\"edge\">\n",
       "<title>relevant_chunk_keys&#45;&gt;make_chunks_display</title>\n",
       "<path fill=\"none\" stroke=\"black\" d=\"M187.6,-432.05C202.22,-423.07 220.4,-411.91 236.31,-402.14\"/>\n",
       "<polygon fill=\"black\" stroke=\"black\" points=\"237.89,-405.28 244.58,-397.07 234.22,-399.32 237.89,-405.28\"/>\n",
       "</g>\n",
       "<!-- get_content -->\n",
       "<g id=\"node16\" class=\"node\">\n",
       "<title>get_content</title>\n",
       "<polygon fill=\"none\" stroke=\"black\" points=\"181.5,-396 102.5,-396 102.5,-360 181.5,-360 181.5,-396\"/>\n",
       "<text text-anchor=\"middle\" x=\"142\" y=\"-372.95\" font-family=\"Times,serif\" font-size=\"14.00\">get_content</text>\n",
       "</g>\n",
       "<!-- relevant_chunk_keys&#45;&gt;get_content -->\n",
       "<g id=\"edge15\" class=\"edge\">\n",
       "<title>relevant_chunk_keys&#45;&gt;get_content</title>\n",
       "<path fill=\"none\" stroke=\"black\" d=\"M155.64,-432.05C153.73,-424.6 151.42,-415.64 149.26,-407.22\"/>\n",
       "<polygon fill=\"black\" stroke=\"black\" points=\"152.7,-406.55 146.82,-397.74 145.92,-408.3 152.7,-406.55\"/>\n",
       "</g>\n",
       "<!-- get_relevant_chunks&#45;&gt;relevant_chunk_keys -->\n",
       "<g id=\"edge9\" class=\"edge\">\n",
       "<title>get_relevant_chunks&#45;&gt;relevant_chunk_keys</title>\n",
       "<path fill=\"none\" stroke=\"black\" d=\"M160,-503.7C160,-496.21 160,-487.26 160,-478.88\"/>\n",
       "<polygon fill=\"black\" stroke=\"black\" points=\"163.5,-479.14 160,-469.14 156.5,-479.14 163.5,-479.14\"/>\n",
       "</g>\n",
       "<!-- result_display -->\n",
       "<g id=\"node13\" class=\"node\">\n",
       "<title>result_display</title>\n",
       "<text text-anchor=\"middle\" x=\"278\" y=\"-300.95\" font-family=\"Times,serif\" font-size=\"14.00\">result_display</text>\n",
       "</g>\n",
       "<!-- make_chunks_display&#45;&gt;result_display -->\n",
       "<g id=\"edge12\" class=\"edge\">\n",
       "<title>make_chunks_display&#45;&gt;result_display</title>\n",
       "<path fill=\"none\" stroke=\"black\" d=\"M274.99,-359.7C275.42,-352.21 275.93,-343.26 276.41,-334.88\"/>\n",
       "<polygon fill=\"black\" stroke=\"black\" points=\"279.89,-335.32 276.96,-325.13 272.9,-334.92 279.89,-335.32\"/>\n",
       "</g>\n",
       "<!-- relevant_chunk_contents -->\n",
       "<g id=\"node15\" class=\"node\">\n",
       "<title>relevant_chunk_contents</title>\n",
       "<text text-anchor=\"middle\" x=\"139\" y=\"-300.95\" font-family=\"Times,serif\" font-size=\"14.00\">relevant_chunk_contents</text>\n",
       "</g>\n",
       "<!-- aggregate_content -->\n",
       "<g id=\"node18\" class=\"node\">\n",
       "<title>aggregate_content</title>\n",
       "<polygon fill=\"none\" stroke=\"black\" points=\"196.5,-252 81.5,-252 81.5,-216 196.5,-216 196.5,-252\"/>\n",
       "<text text-anchor=\"middle\" x=\"139\" y=\"-228.95\" font-family=\"Times,serif\" font-size=\"14.00\">aggregate_content</text>\n",
       "</g>\n",
       "<!-- relevant_chunk_contents&#45;&gt;aggregate_content -->\n",
       "<g id=\"edge17\" class=\"edge\">\n",
       "<title>relevant_chunk_contents&#45;&gt;aggregate_content</title>\n",
       "<path fill=\"none\" stroke=\"black\" d=\"M139,-288.05C139,-280.68 139,-271.84 139,-263.51\"/>\n",
       "<polygon fill=\"black\" stroke=\"black\" points=\"142.5,-263.79 139,-253.79 135.5,-263.79 142.5,-263.79\"/>\n",
       "</g>\n",
       "<!-- get_content&#45;&gt;relevant_chunk_contents -->\n",
       "<g id=\"edge14\" class=\"edge\">\n",
       "<title>get_content&#45;&gt;relevant_chunk_contents</title>\n",
       "<path fill=\"none\" stroke=\"black\" d=\"M141.26,-359.7C140.94,-352.21 140.55,-343.26 140.19,-334.88\"/>\n",
       "<polygon fill=\"black\" stroke=\"black\" points=\"143.7,-334.98 139.78,-325.13 136.71,-335.28 143.7,-334.98\"/>\n",
       "</g>\n",
       "<!-- relevant_chunk_contents_aggregation -->\n",
       "<g id=\"node17\" class=\"node\">\n",
       "<title>relevant_chunk_contents_aggregation</title>\n",
       "<text text-anchor=\"middle\" x=\"139\" y=\"-156.95\" font-family=\"Times,serif\" font-size=\"14.00\">relevant_chunk_contents_aggregation</text>\n",
       "</g>\n",
       "<!-- relevant_chunk_contents_aggregation&#45;&gt;make_answer -->\n",
       "<g id=\"edge20\" class=\"edge\">\n",
       "<title>relevant_chunk_contents_aggregation&#45;&gt;make_answer</title>\n",
       "<path fill=\"none\" stroke=\"black\" d=\"M122.05,-144.05C113.75,-135.75 103.58,-125.58 94.38,-116.38\"/>\n",
       "<polygon fill=\"black\" stroke=\"black\" points=\"96.89,-113.94 87.35,-109.35 91.94,-118.89 96.89,-113.94\"/>\n",
       "</g>\n",
       "<!-- aggregate_content&#45;&gt;relevant_chunk_contents_aggregation -->\n",
       "<g id=\"edge16\" class=\"edge\">\n",
       "<title>aggregate_content&#45;&gt;relevant_chunk_contents_aggregation</title>\n",
       "<path fill=\"none\" stroke=\"black\" d=\"M139,-215.7C139,-208.21 139,-199.26 139,-190.88\"/>\n",
       "<polygon fill=\"black\" stroke=\"black\" points=\"142.5,-191.14 139,-181.14 135.5,-191.14 142.5,-191.14\"/>\n",
       "</g>\n",
       "<!-- answer -->\n",
       "<g id=\"node19\" class=\"node\">\n",
       "<title>answer</title>\n",
       "<text text-anchor=\"middle\" x=\"69\" y=\"-12.95\" font-family=\"Times,serif\" font-size=\"14.00\">answer</text>\n",
       "</g>\n",
       "<!-- make_answer&#45;&gt;answer -->\n",
       "<g id=\"edge18\" class=\"edge\">\n",
       "<title>make_answer&#45;&gt;answer</title>\n",
       "<path fill=\"none\" stroke=\"black\" d=\"M69,-71.7C69,-64.21 69,-55.26 69,-46.88\"/>\n",
       "<polygon fill=\"black\" stroke=\"black\" points=\"72.5,-47.14 69,-37.14 65.5,-47.14 72.5,-47.14\"/>\n",
       "</g>\n",
       "</g>\n",
       "</svg>\n"
      ],
      "text/plain": [
       "<graphviz.graphs.Digraph at 0x138e47f40>"
      ]
     },
     "execution_count": 41,
     "metadata": {},
     "output_type": "execute_result"
    }
   ],
   "source": [
    "from meshed import code_to_dag\n",
    "\n",
    "@code_to_dag\n",
    "def rag_dashboard():\n",
    "    dataset_list = get_dataset_list(user, pwd)\n",
    "    dataset = select_dataset(dataset_list, dataset_choice)\n",
    "    dataset_query = get_dataset_query(query)\n",
    "    relevant_chunk_keys = get_relevant_chunks(dataset_query, dataset)\n",
    "    result_display = make_chunks_display(relevant_chunk_keys)\n",
    "    relevant_chunk_contents = get_content(relevant_chunk_keys)\n",
    "    relevant_chunk_contents_aggregation = aggregate_content(relevant_chunk_contents)\n",
    "    answer = make_answer(query, relevant_chunk_contents_aggregation)\n",
    "\n",
    "rag_dashboard.dot_digraph()"
   ]
  },
  {
   "cell_type": "code",
   "execution_count": 45,
   "metadata": {},
   "outputs": [
    {
     "data": {
      "image/svg+xml": [
       "<?xml version=\"1.0\" encoding=\"UTF-8\" standalone=\"no\"?>\n",
       "<!DOCTYPE svg PUBLIC \"-//W3C//DTD SVG 1.1//EN\"\n",
       " \"http://www.w3.org/Graphics/SVG/1.1/DTD/svg11.dtd\">\n",
       "<!-- Generated by graphviz version 9.0.0 (20230911.1827)\n",
       " -->\n",
       "<!-- Pages: 1 -->\n",
       "<svg width=\"302pt\" height=\"620pt\"\n",
       " viewBox=\"0.00 0.00 301.75 620.00\" xmlns=\"http://www.w3.org/2000/svg\" xmlns:xlink=\"http://www.w3.org/1999/xlink\">\n",
       "<g id=\"graph0\" class=\"graph\" transform=\"scale(1 1) rotate(0) translate(4 616)\">\n",
       "<polygon fill=\"white\" stroke=\"none\" points=\"-4,4 -4,-616 297.75,-616 297.75,4 -4,4\"/>\n",
       "<!-- relevant_chunk_keys -->\n",
       "<g id=\"node1\" class=\"node\">\n",
       "<title>relevant_chunk_keys</title>\n",
       "<text text-anchor=\"middle\" x=\"183\" y=\"-444.95\" font-family=\"Times,serif\" font-size=\"14.00\">relevant_chunk_keys</text>\n",
       "</g>\n",
       "<!-- get_content -->\n",
       "<g id=\"node6\" class=\"node\">\n",
       "<title>get_content</title>\n",
       "<polygon fill=\"none\" stroke=\"black\" points=\"222.5,-396 143.5,-396 143.5,-360 222.5,-360 222.5,-396\"/>\n",
       "<text text-anchor=\"middle\" x=\"183\" y=\"-372.95\" font-family=\"Times,serif\" font-size=\"14.00\">get_content</text>\n",
       "</g>\n",
       "<!-- relevant_chunk_keys&#45;&gt;get_content -->\n",
       "<g id=\"edge5\" class=\"edge\">\n",
       "<title>relevant_chunk_keys&#45;&gt;get_content</title>\n",
       "<path fill=\"none\" stroke=\"black\" d=\"M183,-432.05C183,-424.68 183,-415.84 183,-407.51\"/>\n",
       "<polygon fill=\"black\" stroke=\"black\" points=\"186.5,-407.79 183,-397.79 179.5,-407.79 186.5,-407.79\"/>\n",
       "</g>\n",
       "<!-- dataset_query -->\n",
       "<g id=\"node2\" class=\"node\">\n",
       "<title>dataset_query</title>\n",
       "<text text-anchor=\"middle\" x=\"138\" y=\"-588.95\" font-family=\"Times,serif\" font-size=\"14.00\">dataset_query</text>\n",
       "</g>\n",
       "<!-- get_relevant_chunks -->\n",
       "<g id=\"node4\" class=\"node\">\n",
       "<title>get_relevant_chunks</title>\n",
       "<polygon fill=\"none\" stroke=\"black\" points=\"246.88,-540 119.12,-540 119.12,-504 246.88,-504 246.88,-540\"/>\n",
       "<text text-anchor=\"middle\" x=\"183\" y=\"-516.95\" font-family=\"Times,serif\" font-size=\"14.00\">get_relevant_chunks</text>\n",
       "</g>\n",
       "<!-- dataset_query&#45;&gt;get_relevant_chunks -->\n",
       "<g id=\"edge2\" class=\"edge\">\n",
       "<title>dataset_query&#45;&gt;get_relevant_chunks</title>\n",
       "<path fill=\"none\" stroke=\"black\" d=\"M148.89,-576.05C153.96,-568.18 160.1,-558.62 165.78,-549.79\"/>\n",
       "<polygon fill=\"black\" stroke=\"black\" points=\"168.61,-551.85 171.08,-541.55 162.72,-548.07 168.61,-551.85\"/>\n",
       "</g>\n",
       "<!-- dataset -->\n",
       "<g id=\"node3\" class=\"node\">\n",
       "<title>dataset</title>\n",
       "<text text-anchor=\"middle\" x=\"229\" y=\"-588.95\" font-family=\"Times,serif\" font-size=\"14.00\">dataset</text>\n",
       "</g>\n",
       "<!-- dataset&#45;&gt;get_relevant_chunks -->\n",
       "<g id=\"edge3\" class=\"edge\">\n",
       "<title>dataset&#45;&gt;get_relevant_chunks</title>\n",
       "<path fill=\"none\" stroke=\"black\" d=\"M217.86,-576.05C212.69,-568.18 206.41,-558.62 200.61,-549.79\"/>\n",
       "<polygon fill=\"black\" stroke=\"black\" points=\"203.6,-547.98 195.18,-541.54 197.75,-551.82 203.6,-547.98\"/>\n",
       "</g>\n",
       "<!-- get_relevant_chunks&#45;&gt;relevant_chunk_keys -->\n",
       "<g id=\"edge1\" class=\"edge\">\n",
       "<title>get_relevant_chunks&#45;&gt;relevant_chunk_keys</title>\n",
       "<path fill=\"none\" stroke=\"black\" d=\"M183,-503.7C183,-496.21 183,-487.26 183,-478.88\"/>\n",
       "<polygon fill=\"black\" stroke=\"black\" points=\"186.5,-479.14 183,-469.14 179.5,-479.14 186.5,-479.14\"/>\n",
       "</g>\n",
       "<!-- relevant_chunk_contents -->\n",
       "<g id=\"node5\" class=\"node\">\n",
       "<title>relevant_chunk_contents</title>\n",
       "<text text-anchor=\"middle\" x=\"183\" y=\"-300.95\" font-family=\"Times,serif\" font-size=\"14.00\">relevant_chunk_contents</text>\n",
       "</g>\n",
       "<!-- aggregate_content -->\n",
       "<g id=\"node8\" class=\"node\">\n",
       "<title>aggregate_content</title>\n",
       "<polygon fill=\"none\" stroke=\"black\" points=\"240.5,-252 125.5,-252 125.5,-216 240.5,-216 240.5,-252\"/>\n",
       "<text text-anchor=\"middle\" x=\"183\" y=\"-228.95\" font-family=\"Times,serif\" font-size=\"14.00\">aggregate_content</text>\n",
       "</g>\n",
       "<!-- relevant_chunk_contents&#45;&gt;aggregate_content -->\n",
       "<g id=\"edge7\" class=\"edge\">\n",
       "<title>relevant_chunk_contents&#45;&gt;aggregate_content</title>\n",
       "<path fill=\"none\" stroke=\"black\" d=\"M183,-288.05C183,-280.68 183,-271.84 183,-263.51\"/>\n",
       "<polygon fill=\"black\" stroke=\"black\" points=\"186.5,-263.79 183,-253.79 179.5,-263.79 186.5,-263.79\"/>\n",
       "</g>\n",
       "<!-- get_content&#45;&gt;relevant_chunk_contents -->\n",
       "<g id=\"edge4\" class=\"edge\">\n",
       "<title>get_content&#45;&gt;relevant_chunk_contents</title>\n",
       "<path fill=\"none\" stroke=\"black\" d=\"M183,-359.7C183,-352.21 183,-343.26 183,-334.88\"/>\n",
       "<polygon fill=\"black\" stroke=\"black\" points=\"186.5,-335.14 183,-325.14 179.5,-335.14 186.5,-335.14\"/>\n",
       "</g>\n",
       "<!-- relevant_chunk_contents_aggregation -->\n",
       "<g id=\"node7\" class=\"node\">\n",
       "<title>relevant_chunk_contents_aggregation</title>\n",
       "<text text-anchor=\"middle\" x=\"183\" y=\"-156.95\" font-family=\"Times,serif\" font-size=\"14.00\">relevant_chunk_contents_aggregation</text>\n",
       "</g>\n",
       "<!-- make_answer -->\n",
       "<g id=\"node11\" class=\"node\">\n",
       "<title>make_answer</title>\n",
       "<polygon fill=\"none\" stroke=\"black\" points=\"150.5,-108 59.5,-108 59.5,-72 150.5,-72 150.5,-108\"/>\n",
       "<text text-anchor=\"middle\" x=\"105\" y=\"-84.95\" font-family=\"Times,serif\" font-size=\"14.00\">make_answer</text>\n",
       "</g>\n",
       "<!-- relevant_chunk_contents_aggregation&#45;&gt;make_answer -->\n",
       "<g id=\"edge10\" class=\"edge\">\n",
       "<title>relevant_chunk_contents_aggregation&#45;&gt;make_answer</title>\n",
       "<path fill=\"none\" stroke=\"black\" d=\"M164.12,-144.05C154.68,-135.58 143.07,-125.17 132.65,-115.82\"/>\n",
       "<polygon fill=\"black\" stroke=\"black\" points=\"135.16,-113.36 125.38,-109.29 130.48,-118.57 135.16,-113.36\"/>\n",
       "</g>\n",
       "<!-- aggregate_content&#45;&gt;relevant_chunk_contents_aggregation -->\n",
       "<g id=\"edge6\" class=\"edge\">\n",
       "<title>aggregate_content&#45;&gt;relevant_chunk_contents_aggregation</title>\n",
       "<path fill=\"none\" stroke=\"black\" d=\"M183,-215.7C183,-208.21 183,-199.26 183,-190.88\"/>\n",
       "<polygon fill=\"black\" stroke=\"black\" points=\"186.5,-191.14 183,-181.14 179.5,-191.14 186.5,-191.14\"/>\n",
       "</g>\n",
       "<!-- answer -->\n",
       "<g id=\"node9\" class=\"node\">\n",
       "<title>answer</title>\n",
       "<text text-anchor=\"middle\" x=\"105\" y=\"-12.95\" font-family=\"Times,serif\" font-size=\"14.00\">answer</text>\n",
       "</g>\n",
       "<!-- query -->\n",
       "<g id=\"node10\" class=\"node\">\n",
       "<title>query</title>\n",
       "<text text-anchor=\"middle\" x=\"27\" y=\"-156.95\" font-family=\"Times,serif\" font-size=\"14.00\">query</text>\n",
       "</g>\n",
       "<!-- query&#45;&gt;make_answer -->\n",
       "<g id=\"edge9\" class=\"edge\">\n",
       "<title>query&#45;&gt;make_answer</title>\n",
       "<path fill=\"none\" stroke=\"black\" d=\"M45.88,-144.05C55.32,-135.58 66.93,-125.17 77.35,-115.82\"/>\n",
       "<polygon fill=\"black\" stroke=\"black\" points=\"79.52,-118.57 84.62,-109.29 74.84,-113.36 79.52,-118.57\"/>\n",
       "</g>\n",
       "<!-- make_answer&#45;&gt;answer -->\n",
       "<g id=\"edge8\" class=\"edge\">\n",
       "<title>make_answer&#45;&gt;answer</title>\n",
       "<path fill=\"none\" stroke=\"black\" d=\"M105,-71.7C105,-64.21 105,-55.26 105,-46.88\"/>\n",
       "<polygon fill=\"black\" stroke=\"black\" points=\"108.5,-47.14 105,-37.14 101.5,-47.14 108.5,-47.14\"/>\n",
       "</g>\n",
       "</g>\n",
       "</svg>\n"
      ],
      "text/plain": [
       "<graphviz.graphs.Digraph at 0x138ffc730>"
      ]
     },
     "execution_count": 45,
     "metadata": {},
     "output_type": "execute_result"
    }
   ],
   "source": [
    "rag_dashboard['get_relevant_chunks':'answer'].dot_digraph()"
   ]
  },
  {
   "cell_type": "code",
   "execution_count": 43,
   "metadata": {},
   "outputs": [
    {
     "data": {
      "image/svg+xml": [
       "<?xml version=\"1.0\" encoding=\"UTF-8\" standalone=\"no\"?>\n",
       "<!DOCTYPE svg PUBLIC \"-//W3C//DTD SVG 1.1//EN\"\n",
       " \"http://www.w3.org/Graphics/SVG/1.1/DTD/svg11.dtd\">\n",
       "<!-- Generated by graphviz version 9.0.0 (20230911.1827)\n",
       " -->\n",
       "<!-- Pages: 1 -->\n",
       "<svg width=\"320pt\" height=\"188pt\"\n",
       " viewBox=\"0.00 0.00 319.75 188.00\" xmlns=\"http://www.w3.org/2000/svg\" xmlns:xlink=\"http://www.w3.org/1999/xlink\">\n",
       "<g id=\"graph0\" class=\"graph\" transform=\"scale(1 1) rotate(0) translate(4 184)\">\n",
       "<polygon fill=\"white\" stroke=\"none\" points=\"-4,4 -4,-184 315.75,-184 315.75,4 -4,4\"/>\n",
       "<!-- answer -->\n",
       "<g id=\"node1\" class=\"node\">\n",
       "<title>answer</title>\n",
       "<text text-anchor=\"middle\" x=\"135\" y=\"-12.95\" font-family=\"Times,serif\" font-size=\"14.00\">answer</text>\n",
       "</g>\n",
       "<!-- query -->\n",
       "<g id=\"node2\" class=\"node\">\n",
       "<title>query</title>\n",
       "<text text-anchor=\"middle\" x=\"27\" y=\"-156.95\" font-family=\"Times,serif\" font-size=\"14.00\">query</text>\n",
       "</g>\n",
       "<!-- get_answer -->\n",
       "<g id=\"node6\" class=\"node\">\n",
       "<title>get_answer</title>\n",
       "<polygon fill=\"none\" stroke=\"black\" points=\"173.75,-108 96.25,-108 96.25,-72 173.75,-72 173.75,-108\"/>\n",
       "<text text-anchor=\"middle\" x=\"135\" y=\"-84.95\" font-family=\"Times,serif\" font-size=\"14.00\">get_answer</text>\n",
       "</g>\n",
       "<!-- query&#45;&gt;get_answer -->\n",
       "<g id=\"edge2\" class=\"edge\">\n",
       "<title>query&#45;&gt;get_answer</title>\n",
       "<path fill=\"none\" stroke=\"black\" d=\"M53.14,-144.05C66.87,-135.16 83.9,-124.12 98.86,-114.42\"/>\n",
       "<polygon fill=\"black\" stroke=\"black\" points=\"100.59,-117.47 107.08,-109.1 96.78,-111.6 100.59,-117.47\"/>\n",
       "</g>\n",
       "<!-- user -->\n",
       "<g id=\"node3\" class=\"node\">\n",
       "<title>user</title>\n",
       "<text text-anchor=\"middle\" x=\"99\" y=\"-156.95\" font-family=\"Times,serif\" font-size=\"14.00\">user</text>\n",
       "</g>\n",
       "<!-- user&#45;&gt;get_answer -->\n",
       "<g id=\"edge3\" class=\"edge\">\n",
       "<title>user&#45;&gt;get_answer</title>\n",
       "<path fill=\"none\" stroke=\"black\" d=\"M107.71,-144.05C111.68,-136.35 116.47,-127.03 120.93,-118.36\"/>\n",
       "<polygon fill=\"black\" stroke=\"black\" points=\"123.96,-120.11 125.42,-109.62 117.74,-116.91 123.96,-120.11\"/>\n",
       "</g>\n",
       "<!-- pwd -->\n",
       "<g id=\"node4\" class=\"node\">\n",
       "<title>pwd</title>\n",
       "<text text-anchor=\"middle\" x=\"171\" y=\"-156.95\" font-family=\"Times,serif\" font-size=\"14.00\">pwd</text>\n",
       "</g>\n",
       "<!-- pwd&#45;&gt;get_answer -->\n",
       "<g id=\"edge4\" class=\"edge\">\n",
       "<title>pwd&#45;&gt;get_answer</title>\n",
       "<path fill=\"none\" stroke=\"black\" d=\"M162.29,-144.05C158.32,-136.35 153.53,-127.03 149.07,-118.36\"/>\n",
       "<polygon fill=\"black\" stroke=\"black\" points=\"152.26,-116.91 144.58,-109.62 146.04,-120.11 152.26,-116.91\"/>\n",
       "</g>\n",
       "<!-- dataset_choice -->\n",
       "<g id=\"node5\" class=\"node\">\n",
       "<title>dataset_choice</title>\n",
       "<text text-anchor=\"middle\" x=\"264\" y=\"-156.95\" font-family=\"Times,serif\" font-size=\"14.00\">dataset_choice</text>\n",
       "</g>\n",
       "<!-- dataset_choice&#45;&gt;get_answer -->\n",
       "<g id=\"edge5\" class=\"edge\">\n",
       "<title>dataset_choice&#45;&gt;get_answer</title>\n",
       "<path fill=\"none\" stroke=\"black\" d=\"M232.77,-144.05C215.99,-134.95 195.07,-123.59 176.89,-113.73\"/>\n",
       "<polygon fill=\"black\" stroke=\"black\" points=\"178.62,-110.69 168.17,-109 175.29,-116.84 178.62,-110.69\"/>\n",
       "</g>\n",
       "<!-- get_answer&#45;&gt;answer -->\n",
       "<g id=\"edge1\" class=\"edge\">\n",
       "<title>get_answer&#45;&gt;answer</title>\n",
       "<path fill=\"none\" stroke=\"black\" d=\"M135,-71.7C135,-64.21 135,-55.26 135,-46.88\"/>\n",
       "<polygon fill=\"black\" stroke=\"black\" points=\"138.5,-47.14 135,-37.14 131.5,-47.14 138.5,-47.14\"/>\n",
       "</g>\n",
       "</g>\n",
       "</svg>\n"
      ],
      "text/plain": [
       "<graphviz.graphs.Digraph at 0x1389103d0>"
      ]
     },
     "execution_count": 43,
     "metadata": {},
     "output_type": "execute_result"
    }
   ],
   "source": [
    "@code_to_dag\n",
    "def easy():\n",
    "    answer = get_answer(query, user, pwd, dataset_choice)\n",
    "\n",
    "easy.dot_digraph()"
   ]
  },
  {
   "cell_type": "code",
   "execution_count": null,
   "metadata": {},
   "outputs": [],
   "source": []
  },
  {
   "cell_type": "code",
   "execution_count": null,
   "metadata": {},
   "outputs": [],
   "source": []
  },
  {
   "cell_type": "code",
   "execution_count": 43,
   "metadata": {},
   "outputs": [
    {
     "data": {
      "text/plain": [
       "b'some_value'"
      ]
     },
     "execution_count": 43,
     "metadata": {},
     "output_type": "execute_result"
    }
   ],
   "source": [
    "list(s)\n",
    "s['some_key']"
   ]
  },
  {
   "cell_type": "code",
   "execution_count": 44,
   "metadata": {},
   "outputs": [
    {
     "data": {
      "text/plain": [
       "[]"
      ]
     },
     "execution_count": 44,
     "metadata": {},
     "output_type": "execute_result"
    }
   ],
   "source": [
    "s = JsonFiles(rootdir)\n",
    "list(s)"
   ]
  },
  {
   "cell_type": "code",
   "execution_count": 24,
   "metadata": {},
   "outputs": [
    {
     "data": {
      "text/plain": [
       "['asdf', 'some_key', 'Nonesome_key.json', 'asdf.json']"
      ]
     },
     "execution_count": 24,
     "metadata": {},
     "output_type": "execute_result"
    }
   ],
   "source": [
    "s['asdf.json'] = {'a': 'b'}\n",
    "list(s)"
   ]
  },
  {
   "cell_type": "code",
   "execution_count": 29,
   "metadata": {},
   "outputs": [
    {
     "data": {
      "text/plain": [
       "['a']"
      ]
     },
     "execution_count": 29,
     "metadata": {},
     "output_type": "execute_result"
    }
   ],
   "source": [
    "w = KeyCodecs.affixed(prefix='', suffix='.json')\n",
    "ss = w({'a.json': {'a': 'b'}})\n",
    "list(ss)"
   ]
  },
  {
   "cell_type": "code",
   "execution_count": null,
   "metadata": {},
   "outputs": [],
   "source": []
  },
  {
   "cell_type": "code",
   "execution_count": null,
   "metadata": {},
   "outputs": [],
   "source": []
  },
  {
   "cell_type": "markdown",
   "metadata": {},
   "source": [
    "# Example of store explorer"
   ]
  },
  {
   "cell_type": "code",
   "execution_count": 11,
   "metadata": {},
   "outputs": [
    {
     "data": {
      "image/svg+xml": [
       "<?xml version=\"1.0\" encoding=\"UTF-8\" standalone=\"no\"?>\n",
       "<!DOCTYPE svg PUBLIC \"-//W3C//DTD SVG 1.1//EN\"\n",
       " \"http://www.w3.org/Graphics/SVG/1.1/DTD/svg11.dtd\">\n",
       "<!-- Generated by graphviz version 9.0.0 (20230911.1827)\n",
       " -->\n",
       "<!-- Pages: 1 -->\n",
       "<svg width=\"287pt\" height=\"620pt\"\n",
       " viewBox=\"0.00 0.00 286.75 620.00\" xmlns=\"http://www.w3.org/2000/svg\" xmlns:xlink=\"http://www.w3.org/1999/xlink\">\n",
       "<g id=\"graph0\" class=\"graph\" transform=\"scale(1 1) rotate(0) translate(4 616)\">\n",
       "<polygon fill=\"white\" stroke=\"none\" points=\"-4,4 -4,-616 282.75,-616 282.75,4 -4,4\"/>\n",
       "<!-- store_list -->\n",
       "<g id=\"node1\" class=\"node\">\n",
       "<title>store_list</title>\n",
       "<text text-anchor=\"middle\" x=\"223.12\" y=\"-444.95\" font-family=\"Times,serif\" font-size=\"14.00\">store_list</text>\n",
       "</g>\n",
       "<!-- get_store -->\n",
       "<g id=\"node7\" class=\"node\">\n",
       "<title>get_store</title>\n",
       "<polygon fill=\"none\" stroke=\"black\" points=\"177.88,-396 112.38,-396 112.38,-360 177.88,-360 177.88,-396\"/>\n",
       "<text text-anchor=\"middle\" x=\"145.12\" y=\"-372.95\" font-family=\"Times,serif\" font-size=\"14.00\">get_store</text>\n",
       "</g>\n",
       "<!-- store_list&#45;&gt;get_store -->\n",
       "<g id=\"edge4\" class=\"edge\">\n",
       "<title>store_list&#45;&gt;get_store</title>\n",
       "<path fill=\"none\" stroke=\"black\" d=\"M204.24,-432.05C194.8,-423.58 183.2,-413.17 172.78,-403.82\"/>\n",
       "<polygon fill=\"black\" stroke=\"black\" points=\"175.28,-401.36 165.5,-397.29 170.61,-406.57 175.28,-401.36\"/>\n",
       "</g>\n",
       "<!-- user -->\n",
       "<g id=\"node2\" class=\"node\">\n",
       "<title>user</title>\n",
       "<text text-anchor=\"middle\" x=\"223.12\" y=\"-588.95\" font-family=\"Times,serif\" font-size=\"14.00\">user</text>\n",
       "</g>\n",
       "<!-- display_store_list -->\n",
       "<g id=\"node3\" class=\"node\">\n",
       "<title>display_store_list</title>\n",
       "<polygon fill=\"none\" stroke=\"black\" points=\"278.75,-540 167.5,-540 167.5,-504 278.75,-504 278.75,-540\"/>\n",
       "<text text-anchor=\"middle\" x=\"223.12\" y=\"-516.95\" font-family=\"Times,serif\" font-size=\"14.00\">display_store_list</text>\n",
       "</g>\n",
       "<!-- user&#45;&gt;display_store_list -->\n",
       "<g id=\"edge2\" class=\"edge\">\n",
       "<title>user&#45;&gt;display_store_list</title>\n",
       "<path fill=\"none\" stroke=\"black\" d=\"M223.12,-576.05C223.12,-568.68 223.12,-559.84 223.12,-551.51\"/>\n",
       "<polygon fill=\"black\" stroke=\"black\" points=\"226.63,-551.79 223.13,-541.79 219.63,-551.79 226.63,-551.79\"/>\n",
       "</g>\n",
       "<!-- display_store_list&#45;&gt;store_list -->\n",
       "<g id=\"edge1\" class=\"edge\">\n",
       "<title>display_store_list&#45;&gt;store_list</title>\n",
       "<path fill=\"none\" stroke=\"black\" d=\"M223.12,-503.7C223.12,-496.21 223.12,-487.26 223.12,-478.88\"/>\n",
       "<polygon fill=\"black\" stroke=\"black\" points=\"226.63,-479.14 223.13,-469.14 219.63,-479.14 226.63,-479.14\"/>\n",
       "</g>\n",
       "<!-- store -->\n",
       "<g id=\"node4\" class=\"node\">\n",
       "<title>store</title>\n",
       "<text text-anchor=\"middle\" x=\"145.12\" y=\"-300.95\" font-family=\"Times,serif\" font-size=\"14.00\">store</text>\n",
       "</g>\n",
       "<!-- display_store_keys -->\n",
       "<g id=\"node9\" class=\"node\">\n",
       "<title>display_store_keys</title>\n",
       "<polygon fill=\"none\" stroke=\"black\" points=\"204.88,-252 85.38,-252 85.38,-216 204.88,-216 204.88,-252\"/>\n",
       "<text text-anchor=\"middle\" x=\"145.12\" y=\"-228.95\" font-family=\"Times,serif\" font-size=\"14.00\">display_store_keys</text>\n",
       "</g>\n",
       "<!-- store&#45;&gt;display_store_keys -->\n",
       "<g id=\"edge8\" class=\"edge\">\n",
       "<title>store&#45;&gt;display_store_keys</title>\n",
       "<path fill=\"none\" stroke=\"black\" d=\"M145.12,-288.05C145.12,-280.68 145.12,-271.84 145.12,-263.51\"/>\n",
       "<polygon fill=\"black\" stroke=\"black\" points=\"148.63,-263.79 145.13,-253.79 141.63,-263.79 148.63,-263.79\"/>\n",
       "</g>\n",
       "<!-- store_name -->\n",
       "<g id=\"node5\" class=\"node\">\n",
       "<title>store_name</title>\n",
       "<text text-anchor=\"middle\" x=\"60.12\" y=\"-444.95\" font-family=\"Times,serif\" font-size=\"14.00\">store_name</text>\n",
       "</g>\n",
       "<!-- store_name&#45;&gt;get_store -->\n",
       "<g id=\"edge5\" class=\"edge\">\n",
       "<title>store_name&#45;&gt;get_store</title>\n",
       "<path fill=\"none\" stroke=\"black\" d=\"M80.7,-432.05C91.09,-423.5 103.89,-412.96 115.33,-403.54\"/>\n",
       "<polygon fill=\"black\" stroke=\"black\" points=\"117.49,-406.3 122.98,-397.24 113.04,-400.89 117.49,-406.3\"/>\n",
       "</g>\n",
       "<!-- mall -->\n",
       "<g id=\"node6\" class=\"node\">\n",
       "<title>mall</title>\n",
       "<text text-anchor=\"middle\" x=\"145.12\" y=\"-444.95\" font-family=\"Times,serif\" font-size=\"14.00\">mall</text>\n",
       "</g>\n",
       "<!-- mall&#45;&gt;get_store -->\n",
       "<g id=\"edge6\" class=\"edge\">\n",
       "<title>mall&#45;&gt;get_store</title>\n",
       "<path fill=\"none\" stroke=\"black\" d=\"M145.12,-432.05C145.12,-424.68 145.12,-415.84 145.12,-407.51\"/>\n",
       "<polygon fill=\"black\" stroke=\"black\" points=\"148.63,-407.79 145.13,-397.79 141.63,-407.79 148.63,-407.79\"/>\n",
       "</g>\n",
       "<!-- get_store&#45;&gt;store -->\n",
       "<g id=\"edge3\" class=\"edge\">\n",
       "<title>get_store&#45;&gt;store</title>\n",
       "<path fill=\"none\" stroke=\"black\" d=\"M145.12,-359.7C145.12,-352.21 145.12,-343.26 145.12,-334.88\"/>\n",
       "<polygon fill=\"black\" stroke=\"black\" points=\"148.63,-335.14 145.13,-325.14 141.63,-335.14 148.63,-335.14\"/>\n",
       "</g>\n",
       "<!-- store_keys -->\n",
       "<g id=\"node8\" class=\"node\">\n",
       "<title>store_keys</title>\n",
       "<text text-anchor=\"middle\" x=\"145.12\" y=\"-156.95\" font-family=\"Times,serif\" font-size=\"14.00\">store_keys</text>\n",
       "</g>\n",
       "<!-- get_value -->\n",
       "<g id=\"node12\" class=\"node\">\n",
       "<title>get_value</title>\n",
       "<polygon fill=\"none\" stroke=\"black\" points=\"129.38,-108 60.88,-108 60.88,-72 129.38,-72 129.38,-108\"/>\n",
       "<text text-anchor=\"middle\" x=\"95.12\" y=\"-84.95\" font-family=\"Times,serif\" font-size=\"14.00\">get_value</text>\n",
       "</g>\n",
       "<!-- store_keys&#45;&gt;get_value -->\n",
       "<g id=\"edge10\" class=\"edge\">\n",
       "<title>store_keys&#45;&gt;get_value</title>\n",
       "<path fill=\"none\" stroke=\"black\" d=\"M133.02,-144.05C127.33,-136.09 120.42,-126.41 114.06,-117.51\"/>\n",
       "<polygon fill=\"black\" stroke=\"black\" points=\"117,-115.61 108.34,-109.51 111.31,-119.68 117,-115.61\"/>\n",
       "</g>\n",
       "<!-- display_store_keys&#45;&gt;store_keys -->\n",
       "<g id=\"edge7\" class=\"edge\">\n",
       "<title>display_store_keys&#45;&gt;store_keys</title>\n",
       "<path fill=\"none\" stroke=\"black\" d=\"M145.12,-215.7C145.12,-208.21 145.12,-199.26 145.12,-190.88\"/>\n",
       "<polygon fill=\"black\" stroke=\"black\" points=\"148.63,-191.14 145.13,-181.14 141.63,-191.14 148.63,-191.14\"/>\n",
       "</g>\n",
       "<!-- value -->\n",
       "<g id=\"node10\" class=\"node\">\n",
       "<title>value</title>\n",
       "<text text-anchor=\"middle\" x=\"95.12\" y=\"-12.95\" font-family=\"Times,serif\" font-size=\"14.00\">value</text>\n",
       "</g>\n",
       "<!-- key_selection -->\n",
       "<g id=\"node11\" class=\"node\">\n",
       "<title>key_selection</title>\n",
       "<text text-anchor=\"middle\" x=\"45.12\" y=\"-156.95\" font-family=\"Times,serif\" font-size=\"14.00\">key_selection</text>\n",
       "</g>\n",
       "<!-- key_selection&#45;&gt;get_value -->\n",
       "<g id=\"edge11\" class=\"edge\">\n",
       "<title>key_selection&#45;&gt;get_value</title>\n",
       "<path fill=\"none\" stroke=\"black\" d=\"M57.23,-144.05C62.92,-136.09 69.83,-126.41 76.19,-117.51\"/>\n",
       "<polygon fill=\"black\" stroke=\"black\" points=\"78.94,-119.68 81.91,-109.51 73.25,-115.61 78.94,-119.68\"/>\n",
       "</g>\n",
       "<!-- get_value&#45;&gt;value -->\n",
       "<g id=\"edge9\" class=\"edge\">\n",
       "<title>get_value&#45;&gt;value</title>\n",
       "<path fill=\"none\" stroke=\"black\" d=\"M95.12,-71.7C95.12,-64.21 95.12,-55.26 95.12,-46.88\"/>\n",
       "<polygon fill=\"black\" stroke=\"black\" points=\"98.63,-47.14 95.13,-37.14 91.63,-47.14 98.63,-47.14\"/>\n",
       "</g>\n",
       "</g>\n",
       "</svg>\n"
      ],
      "text/plain": [
       "<graphviz.graphs.Digraph at 0x119047a60>"
      ]
     },
     "execution_count": 11,
     "metadata": {},
     "output_type": "execute_result"
    }
   ],
   "source": [
    "from meshed import code_to_dag\n",
    "\n",
    "mall = {\n",
    "    'forms': {'a': 1, 'b': 2},\n",
    "    'images': {'dog': 'pic of dog'},\n",
    "    'app': {'fiddle': 2, 'image_editing': 3}\n",
    "}\n",
    "\n",
    "@code_to_dag\n",
    "def store_explorer():\n",
    "    store_list = display_store_list(user)\n",
    "    store = get_store(store_list, store_name, mall)\n",
    "    store_keys = display_store_keys(store)\n",
    "    value = get_value(store_keys, key_selection)\n",
    "\n",
    "store_explorer.dot_digraph()\n",
    "    \n",
    "\n"
   ]
  },
  {
   "cell_type": "code",
   "execution_count": null,
   "metadata": {},
   "outputs": [],
   "source": [
    "...?user=USER&store=STORE_NAME&op=list\n",
    "\n",
    "u/USER/s/STORE_NAME/list\n",
    "\n",
    "\n",
    "...?user=USER&store=STORE_NAME&op=get_value&key=KEY\n",
    "\n",
    "u/USER/s/STORE_NAME/get_value?key=KEY\n",
    "\n",
    "\n",
    "function list_keys(store, user) {}\n",
    "\n",
    "function get_value_for_key(store, user, key) {}\n"
   ]
  },
  {
   "cell_type": "code",
   "execution_count": null,
   "metadata": {},
   "outputs": [],
   "source": []
  },
  {
   "cell_type": "code",
   "execution_count": null,
   "metadata": {},
   "outputs": [],
   "source": []
  },
  {
   "cell_type": "code",
   "execution_count": null,
   "metadata": {},
   "outputs": [],
   "source": []
  },
  {
   "cell_type": "code",
   "execution_count": null,
   "metadata": {},
   "outputs": [],
   "source": []
  }
 ],
 "metadata": {
  "kernelspec": {
   "display_name": "p10",
   "language": "python",
   "name": "python3"
  },
  "language_info": {
   "codemirror_mode": {
    "name": "ipython",
    "version": 3
   },
   "file_extension": ".py",
   "mimetype": "text/x-python",
   "name": "python",
   "nbconvert_exporter": "python",
   "pygments_lexer": "ipython3",
   "version": "3.10.13"
  }
 },
 "nbformat": 4,
 "nbformat_minor": 2
}
