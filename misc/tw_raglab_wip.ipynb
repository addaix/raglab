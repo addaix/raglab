{
 "cells": [
  {
   "cell_type": "code",
   "execution_count": null,
   "metadata": {},
   "outputs": [],
   "source": []
  },
  {
   "cell_type": "markdown",
   "metadata": {},
   "source": [
    "# PromptPilot: prompt store and execution"
   ]
  },
  {
   "cell_type": "markdown",
   "metadata": {},
   "source": [
    "Here we develop a DDE (Data Driven Execution object) around prompt templates. \n",
    "A prompt template is some text where some parts are placeholders where we will inject \n",
    "text to make the final prompt. Example: \"suggest names for {this: a random subject}\".\n",
    "\n",
    "Users can \n",
    "* do CRUD on prompt templates,\n",
    "* execute these templates, which means\n",
    "    * inject placeholder \"embodiments\"\n",
    "    * send \"embodied\" prompts to an LLM to get a response\n",
    "\n",
    "In code it looks like this:\n",
    "\n",
    "```python\n",
    "from oa import prompt_function\n",
    "\n",
    "template = \"suggest names for {this: a random subject}\"\n",
    "\n",
    "# Embody template only\n",
    "f = prompt_function(template, prompt_func=None)  # prompt_func=None means \"no LLM\"\n",
    "f(this='A superhero that knows JS')\n",
    "# Returns: 'suggest names for A superhero that knows JS'\n",
    "\n",
    "# Embody and execute\n",
    "f(this='A superhero that knows JS')\n",
    "# Returns:\n",
    "#   1. Code Crusader\n",
    "#   2. JavaScript Jedi\n",
    "#   3. The Script Slinger\n",
    "#   4. Byte Buster\n",
    "#   5. The JavaScript Avenger\n",
    "```\n"
   ]
  },
  {
   "cell_type": "markdown",
   "metadata": {},
   "source": [
    "## Example using prompt function"
   ]
  },
  {
   "cell_type": "code",
   "execution_count": 5,
   "metadata": {},
   "outputs": [],
   "source": [
    "from oa import prompt_function\n",
    "\n",
    "template = \"suggest names for {this: a random subject}\"\n"
   ]
  },
  {
   "cell_type": "code",
   "execution_count": 2,
   "metadata": {},
   "outputs": [
    {
     "data": {
      "text/plain": [
       "'suggest names for A superhero that knows JS'"
      ]
     },
     "execution_count": 2,
     "metadata": {},
     "output_type": "execute_result"
    }
   ],
   "source": [
    "f = prompt_function(template, prompt_func=None)  # prompt_func=None means \"no LLM\"\n",
    "f(this='A superhero that knows JS')"
   ]
  },
  {
   "cell_type": "code",
   "execution_count": 4,
   "metadata": {},
   "outputs": [
    {
     "name": "stdout",
     "output_type": "stream",
     "text": [
      "1. Code Crusader\n",
      "2. JavaScript Jedi\n",
      "3. The Script Slinger\n",
      "4. Byte Buster\n",
      "5. The JavaScript Avenger\n",
      "6. The Web Warrior\n",
      "7. Syntax Savior\n",
      "8. The Programming Prodigy\n",
      "9. The Tech Titan\n",
      "10. The Code Commander\n"
     ]
    }
   ],
   "source": [
    "f = prompt_function(template)  # \n",
    "print(f(this='A superhero that knows JS'))  # this will use an llm (by default an openai model)"
   ]
  },
  {
   "cell_type": "markdown",
   "metadata": {},
   "source": [
    "## Trying the dde object directly in python"
   ]
  },
  {
   "cell_type": "markdown",
   "metadata": {},
   "source": [
    "Here we show the `prompt_template_dde` object that will act as our controller for the prompt templates app.\n",
    "\n",
    "Creating an app that enables users to perform CRUD operations on \"prompt templates\" for use with Large Language Models (LLMs) involves blending concepts of template management, user input customization, and AI execution. The app's name should reflect its functionality of crafting, managing, and executing customized prompts. Here are several suggestive names that encapsulate the app’s core features and appeal to its target audience:\n",
    "\n",
    "PromptCraft: Emphasizes the creation and customization of prompt templates (Craft) for execution with LLMs.\n",
    "PromptForge: Suggests the shaping and forging of customizable prompt templates for use in AI-driven executions.\n",
    "PromptPilot: Indicates guiding or piloting the creation and execution of prompt templates, emphasizing control and direction in AI interactions.\n",
    "TemplateTuner: Indicates fine-tuning or adjusting templates for optimal interactions with LLMs, emphasizing customization and precision.\n",
    "QueryQuiver: Uses alliteration to suggest a collection or \"quiver\" of queries or prompts ready to be deployed with LLMs.\n"
   ]
  },
  {
   "cell_type": "code",
   "execution_count": 6,
   "metadata": {},
   "outputs": [
    {
     "name": "stdout",
     "output_type": "stream",
     "text": [
      "The data is stored here:\n",
      "\t/Users/thorwhalen/.config/raglab/configs/data/spaces/prompt_tests/stores/prompt_templates/\n"
     ]
    }
   ],
   "source": [
    "from raglab.web_services.prompt_templates_dde import prompt_template_dde\n",
    "from raglab.web_services.prompt_templates_dde import *\n",
    "\n",
    "print(f\"The data is stored here:\\n\\t{prompt_template_dde.store.rootdir}\")"
   ]
  },
  {
   "cell_type": "code",
   "execution_count": 31,
   "metadata": {},
   "outputs": [],
   "source": [
    "prompt_template_dde.write('les_Ms', 'Tell me a joke about {subject}')"
   ]
  },
  {
   "cell_type": "code",
   "execution_count": 32,
   "metadata": {},
   "outputs": [
    {
     "data": {
      "text/plain": [
       "['user_story_to_code_for_dag',\n",
       " 'make_synopsis',\n",
       " 'description_to_software_specs',\n",
       " 'define_jargon',\n",
       " 'simple_tests_for_code',\n",
       " 'les_Ms',\n",
       " 'suggest_names',\n",
       " 'specs_to_code_for_dag']"
      ]
     },
     "execution_count": 32,
     "metadata": {},
     "output_type": "execute_result"
    }
   ],
   "source": [
    "prompt_template_dde.list()"
   ]
  },
  {
   "cell_type": "code",
   "execution_count": 20,
   "metadata": {},
   "outputs": [
    {
     "name": "stdout",
     "output_type": "stream",
     "text": [
      "Suggest {n:30} names \n",
      "between {min_length:1} and {max_length:15} characters long for {thing}.\n",
      "Only output the names, one per line with no words before or after it, \n",
      "since I will be parsing the output.\n"
     ]
    }
   ],
   "source": [
    "prompt_template = prompt_template_dde.read('suggest_names')\n",
    "print(prompt_template)"
   ]
  },
  {
   "cell_type": "code",
   "execution_count": 33,
   "metadata": {},
   "outputs": [
    {
     "name": "stdout",
     "output_type": "stream",
     "text": [
      "Why did the frontend developer break up with the backend developer? Because they couldn't handle their constant requests for more space!\n"
     ]
    }
   ],
   "source": [
    "result = prompt_template_dde.execute_prompt_from_key(\n",
    "    'les_Ms', {'subject': 'Frontend development versus backend development'}\n",
    ")\n",
    "print(result)\n"
   ]
  },
  {
   "cell_type": "code",
   "execution_count": 22,
   "metadata": {},
   "outputs": [
    {
     "name": "stdout",
     "output_type": "stream",
     "text": [
      "Luna\n",
      "Jade\n",
      "Finn\n",
      "Max\n",
      "Eva\n",
      "Grace\n",
      "Leo\n",
      "Zoe\n",
      "Kai\n",
      "Ivy\n",
      "Eli\n",
      "Sky\n",
      "Nora\n",
      "Cade\n",
      "Mia\n",
      "Jack\n",
      "Ava\n",
      "Owen\n",
      "Lana\n",
      "Faye\n",
      "Cole\n",
      "Zara\n",
      "Tate\n",
      "Liv\n",
      "Nate\n",
      "Maya\n",
      "Rey\n",
      "Joss\n",
      "Zia\n",
      "Xan\n"
     ]
    }
   ],
   "source": [
    "result = prompt_template_dde.execute_prompt(prompt_template, {'thing': 'A baby born on Feb 22'})\n",
    "print(result)"
   ]
  },
  {
   "cell_type": "markdown",
   "metadata": {},
   "source": [
    "## Getting a function from a prompt template"
   ]
  },
  {
   "cell_type": "code",
   "execution_count": 46,
   "metadata": {},
   "outputs": [
    {
     "name": "stdout",
     "output_type": "stream",
     "text": [
      "Help on function ask_oa in module oa.tools:\n",
      "\n",
      "ask_oa(thing, *, n='30', min_length='1', max_length='15')\n",
      "    Suggest names\n",
      "\n"
     ]
    }
   ],
   "source": [
    "func = prompt_template_dde.prompt_func(\"\"\"Suggest {n:30} names \n",
    "between {min_length:1} and {max_length:15} characters long for {thing}.\n",
    "Only output the names, one per line with no words before or after it, \n",
    "since I will be parsing the output.\"\"\")\n",
    "\n",
    "func.__doc__ = \"\"\"Suggest names\"\"\"\n",
    "\n",
    "assert callable(func)  # func is a function!!\n",
    "\n",
    "help(func)"
   ]
  },
  {
   "cell_type": "markdown",
   "metadata": {},
   "source": [
    "## Getting a rjsf json from a function"
   ]
  },
  {
   "cell_type": "code",
   "execution_count": 47,
   "metadata": {},
   "outputs": [
    {
     "name": "stdout",
     "output_type": "stream",
     "text": [
      "{\n",
      "  \"rjsf\": {\n",
      "    \"schema\": {\n",
      "      \"title\": \"ask_oa\",\n",
      "      \"type\": \"object\",\n",
      "      \"properties\": {\n",
      "        \"thing\": {\n",
      "          \"type\": \"string\"\n",
      "        },\n",
      "        \"n\": {\n",
      "          \"type\": \"string\",\n",
      "          \"default\": \"30\"\n",
      "        },\n",
      "        \"min_length\": {\n",
      "          \"type\": \"string\",\n",
      "          \"default\": \"1\"\n",
      "        },\n",
      "        \"max_length\": {\n",
      "          \"type\": \"string\",\n",
      "          \"default\": \"15\"\n",
      "        }\n",
      "      },\n",
      "      \"required\": [\n",
      "        \"thing\"\n",
      "      ],\n",
      "      \"description\": \"Suggest names\"\n",
      "    },\n",
      "    \"uiSchema\": {\n",
      "      \"ui:submitButtonOptions\": {\n",
      "        \"submitText\": \"Run\"\n",
      "      },\n",
      "      \"thing\": {\n",
      "        \"ui:autofocus\": true\n",
      "      }\n",
      "    },\n",
      "    \"liveValidate\": false,\n",
      "    \"disabled\": false,\n",
      "    \"readonly\": false,\n",
      "    \"omitExtraData\": false,\n",
      "    \"liveOmit\": false,\n",
      "    \"noValidate\": false,\n",
      "    \"noHtml5Validate\": false,\n",
      "    \"focusOnFirstError\": false,\n",
      "    \"showErrorList\": \"top\"\n",
      "  }\n",
      "}\n"
     ]
    }
   ],
   "source": [
    "from ju.rjsf import func_to_form_spec\n",
    "import json\n",
    "\n",
    "from_spec = func_to_form_spec(func)\n",
    "print(json.dumps(from_spec, indent=2))"
   ]
  },
  {
   "cell_type": "markdown",
   "metadata": {},
   "source": [
    "## Calling the dde from a webservice"
   ]
  },
  {
   "cell_type": "markdown",
   "metadata": {},
   "source": [
    "Well, first you need to launch the webservice by doing:\n",
    "\n",
    "```\n",
    "python PATH_TO/raglab/raglab/web_services/prompt_templates_dde.py\n",
    "```\n",
    "\n",
    "Note what the rooturl is, because the default in the function below is 'http://localhost:3030'"
   ]
  },
  {
   "cell_type": "code",
   "execution_count": 49,
   "metadata": {},
   "outputs": [],
   "source": [
    "def call_obj_dispatch_web_service(\n",
    "        attr='list', \n",
    "        params=None, *, \n",
    "        suburl = '/prompt_templates', \n",
    "        rooturl = 'http://localhost:3030'\n",
    "    ):\n",
    "    import requests\n",
    "\n",
    "    url = f'{rooturl}{suburl}'\n",
    "    params = params or {}\n",
    "\n",
    "    add_args = dict(_attr_name=attr, **params)\n",
    "\n",
    "    return requests.post(url, json=add_args).json()\n"
   ]
  },
  {
   "cell_type": "code",
   "execution_count": 50,
   "metadata": {},
   "outputs": [
    {
     "data": {
      "text/plain": [
       "['user_story_to_code_for_dag',\n",
       " 'make_synopsis',\n",
       " 'description_to_software_specs',\n",
       " 'define_jargon',\n",
       " 'simple_tests_for_code',\n",
       " 'les_Ms',\n",
       " 'suggest_names',\n",
       " 'specs_to_code_for_dag']"
      ]
     },
     "execution_count": 50,
     "metadata": {},
     "output_type": "execute_result"
    }
   ],
   "source": [
    "call_obj_dispatch_web_service('list')"
   ]
  },
  {
   "cell_type": "code",
   "execution_count": 29,
   "metadata": {},
   "outputs": [
    {
     "data": {
      "text/plain": [
       "'Mia\\nEli\\nAva\\nKai\\nZoe\\nLuke\\nEva\\nMax\\nJax\\nLia\\nLeo\\nMay\\nRex\\nRose\\nIan\\nFaye\\nNia\\nSky\\nEve\\nAsh\\nJay\\nLux\\nBrynn\\nKip\\nNyx\\nSasha\\nZara\\nTy\\nLiv\\nJet'"
      ]
     },
     "execution_count": 29,
     "metadata": {},
     "output_type": "execute_result"
    }
   ],
   "source": [
    "r = call_obj_dispatch_web_service(\n",
    "    'execute_prompt_from_key', \n",
    "    {'key': 'suggest_names', 'params': {'thing': 'A baby born on Feb 22'}}\n",
    ")\n",
    "r"
   ]
  },
  {
   "cell_type": "code",
   "execution_count": null,
   "metadata": {},
   "outputs": [],
   "source": [
    "from lkj import add_attr"
   ]
  },
  {
   "cell_type": "code",
   "execution_count": null,
   "metadata": {},
   "outputs": [],
   "source": []
  },
  {
   "cell_type": "markdown",
   "metadata": {},
   "source": [
    "# Making malls"
   ]
  },
  {
   "cell_type": "markdown",
   "metadata": {},
   "source": [
    "## Local stores"
   ]
  },
  {
   "cell_type": "code",
   "execution_count": 1,
   "metadata": {},
   "outputs": [],
   "source": [
    "from dol import JsonFiles, wrap_kvs, mk_dirs_if_missing, temp_dir, KeyPath, KeyTemplate, filt_iter, Files\n",
    "import os\n",
    "\n",
    "pjoin = os.path.join"
   ]
  },
  {
   "cell_type": "code",
   "execution_count": 2,
   "metadata": {},
   "outputs": [
    {
     "name": "stdout",
     "output_type": "stream",
     "text": [
      "/var/folders/mc/c070wfh51kxd9lft8dl74q1r0000gn/T/ragdag/rjsf_fiddle\n"
     ]
    }
   ],
   "source": [
    "# temporary directory\n",
    "\n",
    "rootdir = temp_dir('ragdag/rjsf_fiddle')\n",
    "\n",
    "print(rootdir)"
   ]
  },
  {
   "cell_type": "code",
   "execution_count": 33,
   "metadata": {},
   "outputs": [
    {
     "data": {
      "text/plain": [
       "['bob', 'alice']"
      ]
     },
     "execution_count": 33,
     "metadata": {},
     "output_type": "execute_result"
    }
   ],
   "source": [
    "from raglab.web_services.store_access import user_info_store, app\n",
    "\n",
    "list(user_info_store)"
   ]
  },
  {
   "cell_type": "code",
   "execution_count": null,
   "metadata": {},
   "outputs": [],
   "source": []
  },
  {
   "cell_type": "code",
   "execution_count": 5,
   "metadata": {},
   "outputs": [
    {
     "data": {
      "text/plain": [
       "42"
      ]
     },
     "execution_count": 5,
     "metadata": {},
     "output_type": "execute_result"
    }
   ],
   "source": [
    "# Test the server in a separate process\n",
    "import requests\n",
    "\n",
    "url = 'http://localhost:3030/add'\n",
    "add_args = {'a': 20, 'b': 22}\n",
    "requests.post(url, json=add_args).json()\n",
    "# should return 42\n"
   ]
  },
  {
   "cell_type": "code",
   "execution_count": null,
   "metadata": {},
   "outputs": [],
   "source": [
    "curl -X 'POST' \\\n",
    "  'http://localhost:8080/backend_store' \\\n",
    "  -H 'accept: application/json' \\\n",
    "  -H 'Content-Type: application/json' \\\n",
    "  -d '{\n",
    "  \"_attr_name\": \"__iter__\"\n",
    "}'"
   ]
  },
  {
   "cell_type": "code",
   "execution_count": 26,
   "metadata": {},
   "outputs": [
    {
     "ename": "NameError",
     "evalue": "name 'app' is not defined",
     "output_type": "error",
     "traceback": [
      "\u001b[0;31m---------------------------------------------------------------------------\u001b[0m",
      "\u001b[0;31mNameError\u001b[0m                                 Traceback (most recent call last)",
      "Cell \u001b[0;32mIn[26], line 1\u001b[0m\n\u001b[0;32m----> 1\u001b[0m \u001b[43mapp\u001b[49m\n",
      "\u001b[0;31mNameError\u001b[0m: name 'app' is not defined"
     ]
    }
   ],
   "source": []
  },
  {
   "cell_type": "code",
   "execution_count": 30,
   "metadata": {},
   "outputs": [],
   "source": [
    "rooturl = 'http://localhost:8080'\n",
    "url = f'{rooturl}/backend_store'\n",
    "\n",
    "add_args = {\n",
    "  \"_attr_name\": '__iter__',\n",
    "}\n",
    "assert requests.post(url, json=add_args).json() == ['some_key', 'some_other_key']\n",
    "\n",
    "add_args = {\n",
    "  \"_attr_name\": '__getitem__',\n",
    "  \"key\": 'some_key'\n",
    "}\n",
    "assert requests.post(url, json=add_args).json() == 'some_value'"
   ]
  },
  {
   "cell_type": "code",
   "execution_count": 31,
   "metadata": {},
   "outputs": [],
   "source": [
    "\n",
    "\n"
   ]
  },
  {
   "cell_type": "markdown",
   "metadata": {},
   "source": [
    "# Demoing pieces"
   ]
  },
  {
   "cell_type": "markdown",
   "metadata": {},
   "source": [
    "## Make a temp directory"
   ]
  },
  {
   "cell_type": "code",
   "execution_count": 69,
   "metadata": {},
   "outputs": [
    {
     "name": "stdout",
     "output_type": "stream",
     "text": [
      "/var/folders/mc/c070wfh51kxd9lft8dl74q1r0000gn/T/ragdag/rjsf_fiddle\n"
     ]
    }
   ],
   "source": [
    "# temporary directory\n",
    "from dol import temp_dir\n",
    "\n",
    "rootdir = temp_dir('ragdag/rjsf_fiddle')\n",
    "\n",
    "print(rootdir)"
   ]
  },
  {
   "cell_type": "code",
   "execution_count": 71,
   "metadata": {},
   "outputs": [
    {
     "data": {
      "text/plain": [
       "'/Users/thorwhalen/.config/raglab/configs/local_stores'"
      ]
     },
     "execution_count": 71,
     "metadata": {},
     "output_type": "execute_result"
    }
   ],
   "source": [
    "from raglab.util import local_stores_dir\n",
    "\n",
    "local_stores_dir"
   ]
  },
  {
   "cell_type": "markdown",
   "metadata": {},
   "source": [
    "## user_store_factories"
   ]
  },
  {
   "cell_type": "code",
   "execution_count": 1,
   "metadata": {},
   "outputs": [],
   "source": [
    "from raglab.stores.stores_util import mk_local_user_store"
   ]
  },
  {
   "cell_type": "code",
   "execution_count": 26,
   "metadata": {},
   "outputs": [
    {
     "ename": "TypeError",
     "evalue": "mk_user_mall() missing 1 required positional argument: 'user_name'",
     "output_type": "error",
     "traceback": [
      "\u001b[0;31m---------------------------------------------------------------------------\u001b[0m",
      "\u001b[0;31mTypeError\u001b[0m                                 Traceback (most recent call last)",
      "Cell \u001b[0;32mIn[26], line 4\u001b[0m\n\u001b[1;32m      1\u001b[0m \u001b[38;5;28;01mfrom\u001b[39;00m \u001b[38;5;21;01mraglab\u001b[39;00m\u001b[38;5;21;01m.\u001b[39;00m\u001b[38;5;21;01mstores\u001b[39;00m\u001b[38;5;21;01m.\u001b[39;00m\u001b[38;5;21;01msimple_stores\u001b[39;00m \u001b[38;5;28;01mimport\u001b[39;00m user_store_factories, mk_user_mall, mk_user_mall_namespace\n\u001b[1;32m      2\u001b[0m \u001b[38;5;28;01mfrom\u001b[39;00m \u001b[38;5;21;01mi2\u001b[39;00m \u001b[38;5;28;01mimport\u001b[39;00m Sig\n\u001b[0;32m----> 4\u001b[0m mall \u001b[38;5;241m=\u001b[39m \u001b[43mmk_user_mall_namespace\u001b[49m\u001b[43m(\u001b[49m\u001b[38;5;124;43m'\u001b[39;49m\u001b[38;5;124;43mbob\u001b[39;49m\u001b[38;5;124;43m'\u001b[39;49m\u001b[43m)\u001b[49m\n\u001b[1;32m      5\u001b[0m \u001b[38;5;28mlist\u001b[39m(mall)\n\u001b[1;32m      6\u001b[0m mall\u001b[38;5;241m.\u001b[39mpy_objects[\u001b[38;5;124m'\u001b[39m\u001b[38;5;124mtest\u001b[39m\u001b[38;5;124m'\u001b[39m] \u001b[38;5;241m=\u001b[39m [\u001b[38;5;241m1\u001b[39m, \u001b[38;5;124mb\u001b[39m\u001b[38;5;124m'\u001b[39m\u001b[38;5;124mbytes\u001b[39m\u001b[38;5;124m'\u001b[39m, \u001b[38;5;124m'\u001b[39m\u001b[38;5;124mtext\u001b[39m\u001b[38;5;124m'\u001b[39m, (\u001b[38;5;241m1\u001b[39m, \u001b[38;5;241m2\u001b[39m), mk_user_mall_namespace]\n",
      "File \u001b[0;32m~/Dropbox/py/proj/a/raglab/raglab/stores/simple_stores.py:35\u001b[0m, in \u001b[0;36mmk_user_mall_namespace\u001b[0;34m(local_stores_rootdir)\u001b[0m\n\u001b[1;32m     34\u001b[0m \u001b[38;5;28;01mdef\u001b[39;00m \u001b[38;5;21mmk_user_mall_namespace\u001b[39m(local_stores_rootdir: \u001b[38;5;28mstr\u001b[39m \u001b[38;5;241m=\u001b[39m local_stores_dir):\n\u001b[0;32m---> 35\u001b[0m     mall \u001b[38;5;241m=\u001b[39m \u001b[43mmk_user_mall\u001b[49m\u001b[43m(\u001b[49m\u001b[43mlocal_stores_rootdir\u001b[49m\u001b[38;5;241;43m=\u001b[39;49m\u001b[43mlocal_stores_rootdir\u001b[49m\u001b[43m)\u001b[49m\n\u001b[1;32m     36\u001b[0m     \u001b[38;5;28;01mreturn\u001b[39;00m IterableNamespace(\u001b[38;5;241m*\u001b[39m\u001b[38;5;241m*\u001b[39mmall)\n",
      "\u001b[0;31mTypeError\u001b[0m: mk_user_mall() missing 1 required positional argument: 'user_name'"
     ]
    }
   ],
   "source": [
    "from raglab.stores.simple_stores import user_store_factories, mk_user_mall, mk_user_mall_namespace\n",
    "from i2 import Sig\n",
    "\n",
    "mall = mk_user_mall_namespace('bob')\n",
    "list(mall)\n",
    "mall.py_objects['test'] = [1, b'bytes', 'text', (1, 2), mk_user_mall_namespace]\n",
    "'test' in list(mall.py_objects)\n",
    "assert mall.py_objects['test'] == [1, b'bytes', 'text', (1, 2), mk_user_mall_namespace]"
   ]
  },
  {
   "cell_type": "code",
   "execution_count": null,
   "metadata": {},
   "outputs": [],
   "source": []
  },
  {
   "cell_type": "code",
   "execution_count": 22,
   "metadata": {},
   "outputs": [
    {
     "data": {
      "text/plain": [
       "<raglab.web_services.store_access.StoreAccess at 0x10db93640>"
      ]
     },
     "execution_count": 22,
     "metadata": {},
     "output_type": "execute_result"
    }
   ],
   "source": [
    "from raglab.web_services.store_access import *\n",
    "\n",
    "store = {'apple': 1, 'banana': 2}\n",
    "\n",
    "StoreAccess(store)\n",
    "\n",
    "\n"
   ]
  },
  {
   "cell_type": "code",
   "execution_count": 19,
   "metadata": {},
   "outputs": [
    {
     "ename": "NameError",
     "evalue": "name 'rootdir' is not defined",
     "output_type": "error",
     "traceback": [
      "\u001b[0;31m---------------------------------------------------------------------------\u001b[0m",
      "\u001b[0;31mNameError\u001b[0m                                 Traceback (most recent call last)",
      "Cell \u001b[0;32mIn[19], line 1\u001b[0m\n\u001b[0;32m----> 1\u001b[0m \u001b[43mrootdir\u001b[49m\n",
      "\u001b[0;31mNameError\u001b[0m: name 'rootdir' is not defined"
     ]
    }
   ],
   "source": []
  },
  {
   "cell_type": "code",
   "execution_count": 25,
   "metadata": {},
   "outputs": [
    {
     "ename": "TypeError",
     "evalue": "'StoreAccess' object is not iterable",
     "output_type": "error",
     "traceback": [
      "\u001b[0;31m---------------------------------------------------------------------------\u001b[0m",
      "\u001b[0;31mTypeError\u001b[0m                                 Traceback (most recent call last)",
      "Cell \u001b[0;32mIn[25], line 2\u001b[0m\n\u001b[1;32m      1\u001b[0m mall \u001b[38;5;241m=\u001b[39m get_user_mall(\u001b[38;5;124m'\u001b[39m\u001b[38;5;124mbob\u001b[39m\u001b[38;5;124m'\u001b[39m)\n\u001b[0;32m----> 2\u001b[0m \u001b[38;5;28;43mlist\u001b[39;49m\u001b[43m(\u001b[49m\u001b[43mmall\u001b[49m\u001b[43m)\u001b[49m\n",
      "\u001b[0;31mTypeError\u001b[0m: 'StoreAccess' object is not iterable"
     ]
    }
   ],
   "source": [
    "mall = get_user_mall('bob')\n",
    "mall"
   ]
  },
  {
   "cell_type": "code",
   "execution_count": 21,
   "metadata": {},
   "outputs": [],
   "source": [
    "from raglab.stores.stores_util import mk_space_info_store\n",
    "from raglab.web_services.store_access import get_user_mall\n",
    "\n",
    "# mall = get_user_mall()\n",
    "# list(mall)\n"
   ]
  },
  {
   "cell_type": "code",
   "execution_count": 13,
   "metadata": {},
   "outputs": [
    {
     "data": {
      "text/plain": [
       "['bob/info.json', 'alice/info.json']"
      ]
     },
     "execution_count": 13,
     "metadata": {},
     "output_type": "execute_result"
    }
   ],
   "source": [
    "from raglab.web_services.store_access import user_info_store\n",
    "\n",
    "list(user_info_store)\n",
    "\n",
    "# user_info_store['bob'] = {'user': 'bob'}\n",
    "user_info_store.rootdir\n",
    "\n",
    "u_rootdir = '/Users/thorwhalen/.config/raglab/configs/local_stores/u/'\n",
    "from dol import JsonFiles, mk_dirs_if_missing\n",
    "s = mk_dirs_if_missing(JsonFiles(u_rootdir))\n",
    "s['bob/info.json'] = {'user': 'bob'}\n",
    "s['alice/info.json'] = {'user': 'alice'}\n",
    "list(s)"
   ]
  },
  {
   "cell_type": "markdown",
   "metadata": {},
   "source": [
    "## local_user_store"
   ]
  },
  {
   "cell_type": "code",
   "execution_count": 2,
   "metadata": {},
   "outputs": [],
   "source": [
    "from dol import temp_dir\n",
    "\n",
    "rootdir = temp_dir('ragdag/rjsf_fiddle')\n"
   ]
  },
  {
   "cell_type": "code",
   "execution_count": 4,
   "metadata": {},
   "outputs": [
    {
     "data": {
      "text/plain": [
       "'/var/folders/mc/c070wfh51kxd9lft8dl74q1r0000gn/T/ragdag/rjsf_fiddle'"
      ]
     },
     "execution_count": 4,
     "metadata": {},
     "output_type": "execute_result"
    }
   ],
   "source": [
    "rootdir"
   ]
  },
  {
   "cell_type": "code",
   "execution_count": 9,
   "metadata": {},
   "outputs": [
    {
     "data": {
      "text/plain": [
       "['test']"
      ]
     },
     "execution_count": 9,
     "metadata": {},
     "output_type": "execute_result"
    }
   ],
   "source": [
    "from raglab.stores.stores_util import *\n",
    "\n",
    "f = mk_text_store(rootdir)\n",
    "s = f('ana')\n",
    "s['test'] = 'this is text'\n",
    "list(s)"
   ]
  },
  {
   "cell_type": "code",
   "execution_count": null,
   "metadata": {},
   "outputs": [],
   "source": []
  },
  {
   "cell_type": "code",
   "execution_count": 29,
   "metadata": {},
   "outputs": [
    {
     "name": "stdout",
     "output_type": "stream",
     "text": [
      "rootdir='/var/folders/mc/c070wfh51kxd9lft8dl74q1r0000gn/T/ragdag/rjsf_fiddle'\n",
      "Go check out this folder: file:///var/folders/mc/c070wfh51kxd9lft8dl74q1r0000gn/T/ragdag/rjsf_fiddle/u/bob/stores/spec_1/\n"
     ]
    }
   ],
   "source": [
    "from raglab.stores.stores_util import *\n",
    "from dol import temp_dir\n",
    "\n",
    "\n",
    "def test_mk_local_user_store(verbose=False):\n",
    "\n",
    "    rootdir = temp_dir('ragdag/rjsf_fiddle')\n",
    "    if verbose:\n",
    "        print(f\"{rootdir=}\")\n",
    "\n",
    "    s = mk_local_user_store(rootdir, user_name='bob', store_kind='spec_1')\n",
    "    s['some_key'] = b'some_value'\n",
    "    s['some_other_key'] = b'some_other_value'\n",
    "    if verbose:\n",
    "        print(f\"Go check out this folder: file://{s.rootdir}\")\n",
    "    assert 'some_key' in s\n",
    "    assert s['some_key'] == b'some_value'\n",
    "    assert 'some_key' in os.listdir(s.rootdir)\n",
    "\n",
    "def test_mk_specialized_local_user_store(verbose=False):\n",
    "\n",
    "    rootdir = temp_dir('ragdag/rjsf_fiddle')\n",
    "    if verbose:\n",
    "        print(f\"{rootdir=}\")\n",
    "\n",
    "    s = mk_json_store(rootdir, user_name='alice', store_kind='jsons')\n",
    "    s['some_key'] = {'a': 'b'}\n",
    "    assert s['some_key'] == {'a': 'b'}\n",
    "\n",
    "    # see that the file is there, with a json extension\n",
    "    assert 'some_key.json' in os.listdir(s.rootdir)\n",
    "    # see that the file contains the expected content, as json string\n",
    "    from pathlib import Path\n",
    "    assert Path(os.path.join(s.rootdir, 'some_key.json')).read_text() == '{\"a\": \"b\"}'\n",
    "\n",
    "    # showing how, when user_name is not provided, mk_text_store returns a store factory\n",
    "    # with the rootdir fixed\n",
    "    mk_text_store_for_user = mk_text_store(rootdir)\n",
    "    s = mk_text_store_for_user('alice', store_kind='texts')\n",
    "    s['some_key'] = 'some_value'\n",
    "    assert s['some_key'] == 'some_value'\n",
    "\n",
    "    # we can fix any attribute of the store factory\n",
    "    mk_pickle_store_for_user = mk_pickle_store(rootdir, store_kind='pickles')\n",
    "    s = mk_pickle_store_for_user(user_name='alice')\n",
    "    ecclectic_data = [1, 2.3, 'four', map]\n",
    "    s['some_key'] = ecclectic_data\n",
    "    assert s['some_key'] == ecclectic_data\n",
    "\n",
    "test_mk_local_user_store(verbose=True)\n",
    "test_mk_specialized_local_user_store()\n"
   ]
  },
  {
   "cell_type": "markdown",
   "metadata": {},
   "source": [
    "## dol.KeyTemplate"
   ]
  },
  {
   "cell_type": "code",
   "execution_count": null,
   "metadata": {},
   "outputs": [],
   "source": [
    "## Making a key template\n",
    "\n",
    "from dol import KeyTemplate\n",
    "import os\n",
    "\n",
    "pjoin = os.path.join\n",
    "\n",
    "user_template = pjoin('u', '{user_name}')\n",
    "stores_template = pjoin('stores', '{store_name}')\n",
    "\n",
    "kt = KeyTemplate(template=pjoin(user_template, stores_template))\n",
    "key_wrap = kt.key_codec(decoded='tuple', encoded='str')\n",
    "\n",
    "back = {\n",
    "    'u/bob/stores/spec_1': {'an': 'apple'},\n",
    "    'u/bob/stores/spec_2': {'an': 'orange'},\n",
    "    'u/alice/stores/spec_1': {'i_like': 'to move it'},\n",
    "    'some/thing/else': 'contents'\n",
    "}\n",
    "\n",
    "front = key_wrap(kt.filt_iter(back))\n",
    "assert sorted(front) == [('alice', 'spec_1'), ('bob', 'spec_1'), ('bob', 'spec_2')]\n",
    "front['bob', 'spec_1']"
   ]
  },
  {
   "cell_type": "code",
   "execution_count": null,
   "metadata": {},
   "outputs": [],
   "source": []
  },
  {
   "cell_type": "code",
   "execution_count": null,
   "metadata": {},
   "outputs": [],
   "source": []
  }
 ],
 "metadata": {
  "kernelspec": {
   "display_name": "p10",
   "language": "python",
   "name": "python3"
  },
  "language_info": {
   "codemirror_mode": {
    "name": "ipython",
    "version": 3
   },
   "file_extension": ".py",
   "mimetype": "text/x-python",
   "name": "python",
   "nbconvert_exporter": "python",
   "pygments_lexer": "ipython3",
   "version": "3.10.13"
  }
 },
 "nbformat": 4,
 "nbformat_minor": 2
}
