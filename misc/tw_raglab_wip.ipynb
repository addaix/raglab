{
 "cells": [
  {
   "cell_type": "code",
   "execution_count": null,
   "metadata": {},
   "outputs": [],
   "source": []
  },
  {
   "cell_type": "markdown",
   "metadata": {},
   "source": [
    "# Making malls"
   ]
  },
  {
   "cell_type": "markdown",
   "metadata": {},
   "source": [
    "## Local stores"
   ]
  },
  {
   "cell_type": "code",
   "execution_count": 1,
   "metadata": {},
   "outputs": [],
   "source": [
    "from dol import JsonFiles, wrap_kvs, mk_dirs_if_missing, temp_dir, KeyPath, KeyTemplate, filt_iter, Files\n",
    "import os\n",
    "\n",
    "pjoin = os.path.join"
   ]
  },
  {
   "cell_type": "code",
   "execution_count": 2,
   "metadata": {},
   "outputs": [
    {
     "name": "stdout",
     "output_type": "stream",
     "text": [
      "/var/folders/mc/c070wfh51kxd9lft8dl74q1r0000gn/T/ragdag/rjsf_fiddle\n"
     ]
    }
   ],
   "source": [
    "# temporary directory\n",
    "\n",
    "rootdir = temp_dir('ragdag/rjsf_fiddle')\n",
    "\n",
    "print(rootdir)"
   ]
  },
  {
   "cell_type": "code",
   "execution_count": 4,
   "metadata": {},
   "outputs": [
    {
     "data": {
      "text/plain": [
       "{'an': 'apple'}"
      ]
     },
     "execution_count": 4,
     "metadata": {},
     "output_type": "execute_result"
    }
   ],
   "source": [
    "## Making a key template\n",
    "\n",
    "from dol import KeyTemplate\n",
    "import os\n",
    "\n",
    "pjoin = os.path.join\n",
    "\n",
    "user_template = pjoin('u', '{user_name}')\n",
    "stores_template = pjoin('stores', '{store_name}')\n",
    "\n",
    "kt = KeyTemplate(template=pjoin(user_template, stores_template))\n",
    "key_wrap = kt.key_codec(decoded='tuple', encoded='str')\n",
    "\n",
    "back = {\n",
    "    'u/bob/stores/spec_1': {'an': 'apple'},\n",
    "    'u/bob/stores/spec_2': {'an': 'orange'},\n",
    "    'u/alice/stores/spec_1': {'i_like': 'to move it'},\n",
    "    'some/thing/else': 'contents'\n",
    "}\n",
    "\n",
    "front = key_wrap(kt.filt_iter(back))\n",
    "assert sorted(front) == [('alice', 'spec_1'), ('bob', 'spec_1'), ('bob', 'spec_2')]\n",
    "front['bob', 'spec_1']\n"
   ]
  },
  {
   "cell_type": "code",
   "execution_count": 7,
   "metadata": {},
   "outputs": [
    {
     "name": "stdout",
     "output_type": "stream",
     "text": [
      "rootdir='/var/folders/mc/c070wfh51kxd9lft8dl74q1r0000gn/T/ragdag/rjsf_fiddle'\n",
      "Go check out this folder: file:///var/folders/mc/c070wfh51kxd9lft8dl74q1r0000gn/T/ragdag/rjsf_fiddle/u/bob/stores/spec_1/\n"
     ]
    }
   ],
   "source": [
    "from raglab.stores.stores_util import *\n",
    "\n",
    "def test_mk_local_user_store(verbose=False):\n",
    "\n",
    "    rootdir = temp_dir('ragdag/rjsf_fiddle')\n",
    "    if verbose:\n",
    "        print(f\"{rootdir=}\")\n",
    "\n",
    "    s = mk_local_user_store(rootdir, user_name='bob', store_kind='spec_1')\n",
    "    s['some_key'] = b'some_value'\n",
    "    s['some_other_key'] = b'some_other_value'\n",
    "    if verbose:\n",
    "        print(f\"Go check out this folder: file://{s.rootdir}\")\n",
    "    assert 'some_key' in s\n",
    "    assert s['some_key'] == b'some_value'\n",
    "    assert 'some_key' in os.listdir(s.rootdir)\n",
    "\n",
    "def test_mk_specialized_local_user_store(verbose=False):\n",
    "\n",
    "    rootdir = temp_dir('ragdag/rjsf_fiddle')\n",
    "    if verbose:\n",
    "        print(f\"{rootdir=}\")\n",
    "\n",
    "    s = mk_json_store(rootdir, user_name='alice', store_kind='jsons')\n",
    "    s['some_key'] = {'a': 'b'}\n",
    "    assert s['some_key'] == {'a': 'b'}\n",
    "\n",
    "    # see that the file is there, with a json extension\n",
    "    assert 'some_key.json' in os.listdir(s.rootdir)\n",
    "    # see that the file contains the expected content, as json string\n",
    "    from pathlib import Path\n",
    "    assert Path(os.path.join(s.rootdir, 'some_key.json')).read_text() == '{\"a\": \"b\"}'\n",
    "\n",
    "    s = mk_text_store(rootdir, user_name='alice', store_kind='texts')\n",
    "    s['some_key'] = 'some_value'\n",
    "    assert s['some_key'] == 'some_value'\n",
    "\n",
    "    s = mk_pickle_store(rootdir, user_name='alice', store_kind='pickles')\n",
    "    ecclectic_data = [1, 2.3, 'four']\n",
    "    s['some_key'] = ecclectic_data\n",
    "    assert s['some_key'] == ecclectic_data\n",
    "\n",
    "test_mk_local_user_store(verbose=True)\n",
    "test_mk_specialized_local_user_store()\n"
   ]
  },
  {
   "cell_type": "code",
   "execution_count": 46,
   "metadata": {},
   "outputs": [
    {
     "data": {
      "text/plain": [
       "'/var/folders/mc/c070wfh51kxd9lft8dl74q1r0000gn/T/ragdag/rjsf_fiddle'"
      ]
     },
     "execution_count": 46,
     "metadata": {},
     "output_type": "execute_result"
    }
   ],
   "source": [
    "rootdir"
   ]
  },
  {
   "cell_type": "code",
   "execution_count": 43,
   "metadata": {},
   "outputs": [
    {
     "data": {
      "text/plain": [
       "b'some_value'"
      ]
     },
     "execution_count": 43,
     "metadata": {},
     "output_type": "execute_result"
    }
   ],
   "source": [
    "list(s)\n",
    "s['some_key']"
   ]
  },
  {
   "cell_type": "code",
   "execution_count": 44,
   "metadata": {},
   "outputs": [
    {
     "data": {
      "text/plain": [
       "[]"
      ]
     },
     "execution_count": 44,
     "metadata": {},
     "output_type": "execute_result"
    }
   ],
   "source": [
    "s = JsonFiles(rootdir)\n",
    "list(s)"
   ]
  },
  {
   "cell_type": "code",
   "execution_count": 24,
   "metadata": {},
   "outputs": [
    {
     "data": {
      "text/plain": [
       "['asdf', 'some_key', 'Nonesome_key.json', 'asdf.json']"
      ]
     },
     "execution_count": 24,
     "metadata": {},
     "output_type": "execute_result"
    }
   ],
   "source": [
    "s['asdf.json'] = {'a': 'b'}\n",
    "list(s)"
   ]
  },
  {
   "cell_type": "code",
   "execution_count": 29,
   "metadata": {},
   "outputs": [
    {
     "data": {
      "text/plain": [
       "['a']"
      ]
     },
     "execution_count": 29,
     "metadata": {},
     "output_type": "execute_result"
    }
   ],
   "source": [
    "w = KeyCodecs.affixed(prefix='', suffix='.json')\n",
    "ss = w({'a.json': {'a': 'b'}})\n",
    "list(ss)"
   ]
  },
  {
   "cell_type": "code",
   "execution_count": null,
   "metadata": {},
   "outputs": [],
   "source": []
  }
 ],
 "metadata": {
  "kernelspec": {
   "display_name": "p10",
   "language": "python",
   "name": "python3"
  },
  "language_info": {
   "codemirror_mode": {
    "name": "ipython",
    "version": 3
   },
   "file_extension": ".py",
   "mimetype": "text/x-python",
   "name": "python",
   "nbconvert_exporter": "python",
   "pygments_lexer": "ipython3",
   "version": "3.10.13"
  }
 },
 "nbformat": 4,
 "nbformat_minor": 2
}
